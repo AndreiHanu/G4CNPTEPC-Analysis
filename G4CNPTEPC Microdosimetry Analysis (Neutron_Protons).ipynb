{
 "cells": [
  {
   "cell_type": "markdown",
   "metadata": {},
   "source": [
    "# Microdosimetric analysis of Geant4 CNPTEPC neutron/proton simulation data\n",
    "## Andrei R. Hanu - andrei.hanu@nasa.gov"
   ]
  },
  {
   "cell_type": "code",
   "execution_count": 1,
   "metadata": {
    "collapsed": true
   },
   "outputs": [],
   "source": [
    "# Matplotlib - 2D plotting library\n",
    "from matplotlib import pyplot as plt\n",
    "from matplotlib import rcParams\n",
    "\n",
    "# Show matplotlib figures inline the notebook\n",
    "%matplotlib inline\n",
    "\n",
    "# Pandas - High-performance data analysis\n",
    "import pandas\n",
    "\n",
    "# Glob - Unix style pathname pattern expansion\n",
    "# Used to aggregate folders and files into a single list so they can be iterated over\n",
    "import glob\n",
    "\n",
    "# Numpy - For handling of large, multi-dimensional arrays and matrices\n",
    "import numpy as np\n",
    "\n",
    "# Color palette library for Python\n",
    "# How to choose a colour scheme for your data:\n",
    "# http://earthobservatory.nasa.gov/blogs/elegantfigures/2013/08/05/subtleties-of-color-part-1-of-6/\n",
    "import brewer2mpl"
   ]
  },
  {
   "cell_type": "code",
   "execution_count": 12,
   "metadata": {
    "collapsed": false
   },
   "outputs": [],
   "source": [
    "##########################################################################################\n",
    "# Setting rcParams for publication quality graphs\n",
    "fig_width_pt = 246.0                    # Get this from LaTeX using \\showthe\\columnwidth\n",
    "inches_per_pt = 1.0/72.27               # Convert pt to inch\n",
    "golden_mean = (np.sqrt(5)-1.0)/2.0      # Aesthetic ratio\n",
    "fig_width = fig_width_pt*inches_per_pt  # Width in inches\n",
    "fig_height = fig_width*golden_mean      # Height in inches\n",
    "fig_size =  [fig_width, fig_height]\n",
    "# fig_size =  [7.3,4.2]\n",
    "fig_size =  [7.3*1.25,4.2*1.25]\n",
    "# fig_size =  [7.3*1.5,4.2*1.5]\n",
    "# fig_size =  [7.3*2,4.2*2]\n",
    "params = {'backend': 'pdf',\n",
    "        'axes.labelsize': 10,\n",
    "        'legend.fontsize': 10,\n",
    "        'xtick.labelsize': 10,\n",
    "        'ytick.labelsize': 10,\n",
    "        'xtick.major.size': 7,\n",
    "        'xtick.major.width': 1,\n",
    "        'xtick.minor.size': 3.5,\n",
    "        'xtick.minor.width': 1.25,\n",
    "        'ytick.major.size': 7,\n",
    "        'ytick.major.width': 1.25,\n",
    "        'ytick.minor.size': 3.5,\n",
    "        'ytick.minor.width': 1.25,\n",
    "        'font.family': 'sans-serif',\n",
    "        'font.sans-serif': 'Avant Garde',\n",
    "        'font.size': 10,\n",
    "        'text.usetex': True,\n",
    "        'figure.figsize': fig_size}\n",
    "\n",
    "# Update rcParams\n",
    "rcParams.update(params)"
   ]
  },
  {
   "cell_type": "code",
   "execution_count": 3,
   "metadata": {
    "collapsed": false
   },
   "outputs": [],
   "source": [
    "##########################################################################################\n",
    "# Energy of incident particles (Protons) in keV\n",
    "InputEnergies_Proton = np.array([np.linspace(9000000,9000000, num=1, endpoint=True, dtype = int)\n",
    "                ]).flatten()\n",
    "\n",
    "##########################################################################################\n",
    "# Energy of incident particles (Neutrons)\n",
    "InputEnergies_Neutron = np.array([np.linspace(1000,9000, num=9, endpoint=True, dtype = int)\n",
    "                ]).flatten()\n",
    "\n",
    "# Folder containing simulation data\n",
    "DataFolder_Proton = '../Results/ACD_4p0mm/Protons/'\n",
    "DataFolder_Neutron = '../Results/ACD_4p0mm/Neutrons/'\n",
    "# DataFolder_Neutron = '../Results/ACD_4p0mm/Neutrons_Forced/'\n",
    "\n",
    "##########################################################################################\n",
    "# Energy thresholds (in eV) for events that will be included in the analysis\n",
    "Thr_TEPC = 325.\n",
    "Thr_ACD = 325."
   ]
  },
  {
   "cell_type": "code",
   "execution_count": 4,
   "metadata": {
    "collapsed": false
   },
   "outputs": [
    {
     "name": "stdout",
     "output_type": "stream",
     "text": [
      "\n",
      "------------------------------------------------------------\n",
      "Proton Energy: \t\t9000000  keV\n",
      "------------------------------------------------------------\n",
      "Importing: ../Results/ACD_4p0mm/Protons/proton_9000000keV_Nr_100000000_ISO_nt_G4CNPTEPC_t0.csv\n",
      "Importing: ../Results/ACD_4p0mm/Protons/proton_9000000keV_Nr_100000000_ISO_nt_G4CNPTEPC_t1.csv\n",
      "Importing: ../Results/ACD_4p0mm/Protons/proton_9000000keV_Nr_100000000_ISO_nt_G4CNPTEPC_t2.csv\n",
      "Importing: ../Results/ACD_4p0mm/Protons/proton_9000000keV_Nr_100000000_ISO_nt_G4CNPTEPC_t3.csv\n",
      "Importing: ../Results/ACD_4p0mm/Protons/proton_9000000keV_Nr_100000000_ISO_nt_G4CNPTEPC_t4.csv\n",
      "Importing: ../Results/ACD_4p0mm/Protons/proton_9000000keV_Nr_100000000_ISO_nt_G4CNPTEPC_t5.csv\n",
      "Importing: ../Results/ACD_4p0mm/Protons/proton_9000000keV_Nr_100000000_ISO_nt_G4CNPTEPC_t6.csv\n",
      "Importing: ../Results/ACD_4p0mm/Protons/proton_9000000keV_Nr_100000000_ISO_nt_G4CNPTEPC_t7.csv\n",
      "\n",
      "Total number of events: \t\t6736752\n",
      "Number of coincidence events: \t\t1421114\n",
      "Number of anti-coincidence events: \t954\n",
      "Number of sub-threshold events: \t1817\n"
     ]
    }
   ],
   "source": [
    "#########################################################################################\n",
    "# Load the simulation data for protons\n",
    "DataFrame = []\n",
    "\n",
    "for InputEnergy in InputEnergies_Proton[InputEnergies_Proton.argsort()]:\n",
    "    # Create data file template from current energy \n",
    "    DataFilename = 'proton_' + str(InputEnergy) + 'keV_Nr_100000000_ISO_nt_G4CNPTEPC_t*.csv'\n",
    "    \n",
    "    # Print energy \n",
    "    print '\\n------------------------------------------------------------'\n",
    "    print 'Proton Energy: \\t\\t', str(InputEnergy), ' keV'\n",
    "    print '------------------------------------------------------------'\n",
    "\n",
    "    ##########################################################################################\n",
    "    # Process the simulation data files\n",
    "    # Column 0 - Energy deposited in the TEPC sensitive volume [eV]\n",
    "    # Column 1 - Track length of particles that entirely traverse the TEPC [mm]\n",
    "    # Column 2 - Energy deposited in the plastic scintillator [eV]\n",
    "    for dataFile in glob.glob(DataFolder_Proton + DataFilename):  \n",
    "        print 'Importing: ' + dataFile\n",
    "        df = pandas.read_csv(dataFile, header=-1, skiprows=6, usecols=[0,1,2])\n",
    "        DataFrame.append(df) \n",
    "    \n",
    "    # Merge the DataFrames from each file\n",
    "    Data = pandas.concat(DataFrame).values\n",
    "\n",
    "# Print the number of total events\n",
    "print '\\nTotal number of events: \\t\\t', Data[:,0].size\n",
    "print 'Number of coincidence events: \\t\\t', Data[np.logical_and((Data[:,2] > Thr_ACD),(Data[:,0] > Thr_TEPC)),0].size\n",
    "print 'Number of anti-coincidence events: \\t', Data[np.logical_and((Data[:,2] <= Thr_ACD),(Data[:,0] > Thr_TEPC)),0].size\n",
    "print 'Number of sub-threshold events: \\t', Data[np.logical_and((Data[:,2] <= Thr_ACD),(Data[:,0] <= Thr_TEPC)),0].size"
   ]
  },
  {
   "cell_type": "code",
   "execution_count": 5,
   "metadata": {
    "collapsed": false
   },
   "outputs": [
    {
     "name": "stdout",
     "output_type": "stream",
     "text": [
      "\n",
      "------------------------------------------------------------\n",
      "Neutron Energy: \t\t1000  keV\n",
      "------------------------------------------------------------\n",
      "Importing: ../Results/ACD_4p0mm/Neutrons/neutron_1000keV_Nr_1000000000_ISO_nt_G4CNPTEPC_t0.csv\n",
      "Importing: ../Results/ACD_4p0mm/Neutrons/neutron_1000keV_Nr_1000000000_ISO_nt_G4CNPTEPC_t1.csv\n",
      "Importing: ../Results/ACD_4p0mm/Neutrons/neutron_1000keV_Nr_1000000000_ISO_nt_G4CNPTEPC_t2.csv\n",
      "Importing: ../Results/ACD_4p0mm/Neutrons/neutron_1000keV_Nr_1000000000_ISO_nt_G4CNPTEPC_t3.csv\n",
      "Importing: ../Results/ACD_4p0mm/Neutrons/neutron_1000keV_Nr_1000000000_ISO_nt_G4CNPTEPC_t4.csv\n",
      "Importing: ../Results/ACD_4p0mm/Neutrons/neutron_1000keV_Nr_1000000000_ISO_nt_G4CNPTEPC_t5.csv\n",
      "Importing: ../Results/ACD_4p0mm/Neutrons/neutron_1000keV_Nr_1000000000_ISO_nt_G4CNPTEPC_t6.csv\n",
      "Importing: ../Results/ACD_4p0mm/Neutrons/neutron_1000keV_Nr_1000000000_ISO_nt_G4CNPTEPC_t7.csv\n",
      "\n",
      "------------------------------------------------------------\n",
      "Neutron Energy: \t\t2000  keV\n",
      "------------------------------------------------------------\n",
      "Importing: ../Results/ACD_4p0mm/Neutrons/neutron_2000keV_Nr_1000000000_ISO_nt_G4CNPTEPC_t0.csv\n",
      "Importing: ../Results/ACD_4p0mm/Neutrons/neutron_2000keV_Nr_1000000000_ISO_nt_G4CNPTEPC_t1.csv\n",
      "Importing: ../Results/ACD_4p0mm/Neutrons/neutron_2000keV_Nr_1000000000_ISO_nt_G4CNPTEPC_t2.csv\n",
      "Importing: ../Results/ACD_4p0mm/Neutrons/neutron_2000keV_Nr_1000000000_ISO_nt_G4CNPTEPC_t3.csv\n",
      "Importing: ../Results/ACD_4p0mm/Neutrons/neutron_2000keV_Nr_1000000000_ISO_nt_G4CNPTEPC_t4.csv\n",
      "Importing: ../Results/ACD_4p0mm/Neutrons/neutron_2000keV_Nr_1000000000_ISO_nt_G4CNPTEPC_t5.csv\n",
      "Importing: ../Results/ACD_4p0mm/Neutrons/neutron_2000keV_Nr_1000000000_ISO_nt_G4CNPTEPC_t6.csv\n",
      "Importing: ../Results/ACD_4p0mm/Neutrons/neutron_2000keV_Nr_1000000000_ISO_nt_G4CNPTEPC_t7.csv\n",
      "\n",
      "------------------------------------------------------------\n",
      "Neutron Energy: \t\t3000  keV\n",
      "------------------------------------------------------------\n",
      "Importing: ../Results/ACD_4p0mm/Neutrons/neutron_3000keV_Nr_1000000000_ISO_nt_G4CNPTEPC_t0.csv\n",
      "Importing: ../Results/ACD_4p0mm/Neutrons/neutron_3000keV_Nr_1000000000_ISO_nt_G4CNPTEPC_t1.csv\n",
      "Importing: ../Results/ACD_4p0mm/Neutrons/neutron_3000keV_Nr_1000000000_ISO_nt_G4CNPTEPC_t2.csv\n",
      "Importing: ../Results/ACD_4p0mm/Neutrons/neutron_3000keV_Nr_1000000000_ISO_nt_G4CNPTEPC_t3.csv\n",
      "Importing: ../Results/ACD_4p0mm/Neutrons/neutron_3000keV_Nr_1000000000_ISO_nt_G4CNPTEPC_t4.csv\n",
      "Importing: ../Results/ACD_4p0mm/Neutrons/neutron_3000keV_Nr_1000000000_ISO_nt_G4CNPTEPC_t5.csv\n",
      "Importing: ../Results/ACD_4p0mm/Neutrons/neutron_3000keV_Nr_1000000000_ISO_nt_G4CNPTEPC_t6.csv\n",
      "Importing: ../Results/ACD_4p0mm/Neutrons/neutron_3000keV_Nr_1000000000_ISO_nt_G4CNPTEPC_t7.csv\n",
      "\n",
      "------------------------------------------------------------\n",
      "Neutron Energy: \t\t4000  keV\n",
      "------------------------------------------------------------\n",
      "Importing: ../Results/ACD_4p0mm/Neutrons/neutron_4000keV_Nr_1000000000_ISO_nt_G4CNPTEPC_t0.csv\n",
      "Importing: ../Results/ACD_4p0mm/Neutrons/neutron_4000keV_Nr_1000000000_ISO_nt_G4CNPTEPC_t1.csv\n",
      "Importing: ../Results/ACD_4p0mm/Neutrons/neutron_4000keV_Nr_1000000000_ISO_nt_G4CNPTEPC_t2.csv\n",
      "Importing: ../Results/ACD_4p0mm/Neutrons/neutron_4000keV_Nr_1000000000_ISO_nt_G4CNPTEPC_t3.csv\n",
      "Importing: ../Results/ACD_4p0mm/Neutrons/neutron_4000keV_Nr_1000000000_ISO_nt_G4CNPTEPC_t4.csv\n",
      "Importing: ../Results/ACD_4p0mm/Neutrons/neutron_4000keV_Nr_1000000000_ISO_nt_G4CNPTEPC_t5.csv\n",
      "Importing: ../Results/ACD_4p0mm/Neutrons/neutron_4000keV_Nr_1000000000_ISO_nt_G4CNPTEPC_t6.csv\n",
      "Importing: ../Results/ACD_4p0mm/Neutrons/neutron_4000keV_Nr_1000000000_ISO_nt_G4CNPTEPC_t7.csv\n",
      "\n",
      "------------------------------------------------------------\n",
      "Neutron Energy: \t\t5000  keV\n",
      "------------------------------------------------------------\n",
      "Importing: ../Results/ACD_4p0mm/Neutrons/neutron_5000keV_Nr_1000000000_ISO_nt_G4CNPTEPC_t0.csv\n",
      "Importing: ../Results/ACD_4p0mm/Neutrons/neutron_5000keV_Nr_1000000000_ISO_nt_G4CNPTEPC_t1.csv\n",
      "Importing: ../Results/ACD_4p0mm/Neutrons/neutron_5000keV_Nr_1000000000_ISO_nt_G4CNPTEPC_t2.csv\n",
      "Importing: ../Results/ACD_4p0mm/Neutrons/neutron_5000keV_Nr_1000000000_ISO_nt_G4CNPTEPC_t3.csv\n",
      "Importing: ../Results/ACD_4p0mm/Neutrons/neutron_5000keV_Nr_1000000000_ISO_nt_G4CNPTEPC_t4.csv\n",
      "Importing: ../Results/ACD_4p0mm/Neutrons/neutron_5000keV_Nr_1000000000_ISO_nt_G4CNPTEPC_t5.csv\n",
      "Importing: ../Results/ACD_4p0mm/Neutrons/neutron_5000keV_Nr_1000000000_ISO_nt_G4CNPTEPC_t6.csv\n",
      "Importing: ../Results/ACD_4p0mm/Neutrons/neutron_5000keV_Nr_1000000000_ISO_nt_G4CNPTEPC_t7.csv\n",
      "\n",
      "------------------------------------------------------------\n",
      "Neutron Energy: \t\t6000  keV\n",
      "------------------------------------------------------------\n",
      "Importing: ../Results/ACD_4p0mm/Neutrons/neutron_6000keV_Nr_1000000000_ISO_nt_G4CNPTEPC_t0.csv\n",
      "Importing: ../Results/ACD_4p0mm/Neutrons/neutron_6000keV_Nr_1000000000_ISO_nt_G4CNPTEPC_t1.csv\n",
      "Importing: ../Results/ACD_4p0mm/Neutrons/neutron_6000keV_Nr_1000000000_ISO_nt_G4CNPTEPC_t2.csv\n",
      "Importing: ../Results/ACD_4p0mm/Neutrons/neutron_6000keV_Nr_1000000000_ISO_nt_G4CNPTEPC_t3.csv\n",
      "Importing: ../Results/ACD_4p0mm/Neutrons/neutron_6000keV_Nr_1000000000_ISO_nt_G4CNPTEPC_t4.csv\n",
      "Importing: ../Results/ACD_4p0mm/Neutrons/neutron_6000keV_Nr_1000000000_ISO_nt_G4CNPTEPC_t5.csv\n",
      "Importing: ../Results/ACD_4p0mm/Neutrons/neutron_6000keV_Nr_1000000000_ISO_nt_G4CNPTEPC_t6.csv\n",
      "Importing: ../Results/ACD_4p0mm/Neutrons/neutron_6000keV_Nr_1000000000_ISO_nt_G4CNPTEPC_t7.csv\n",
      "\n",
      "------------------------------------------------------------\n",
      "Neutron Energy: \t\t7000  keV\n",
      "------------------------------------------------------------\n",
      "Importing: ../Results/ACD_4p0mm/Neutrons/neutron_7000keV_Nr_1000000000_ISO_nt_G4CNPTEPC_t0.csv\n",
      "Importing: ../Results/ACD_4p0mm/Neutrons/neutron_7000keV_Nr_1000000000_ISO_nt_G4CNPTEPC_t1.csv\n",
      "Importing: ../Results/ACD_4p0mm/Neutrons/neutron_7000keV_Nr_1000000000_ISO_nt_G4CNPTEPC_t2.csv\n",
      "Importing: ../Results/ACD_4p0mm/Neutrons/neutron_7000keV_Nr_1000000000_ISO_nt_G4CNPTEPC_t3.csv\n",
      "Importing: ../Results/ACD_4p0mm/Neutrons/neutron_7000keV_Nr_1000000000_ISO_nt_G4CNPTEPC_t4.csv\n",
      "Importing: ../Results/ACD_4p0mm/Neutrons/neutron_7000keV_Nr_1000000000_ISO_nt_G4CNPTEPC_t5.csv\n",
      "Importing: ../Results/ACD_4p0mm/Neutrons/neutron_7000keV_Nr_1000000000_ISO_nt_G4CNPTEPC_t6.csv\n",
      "Importing: ../Results/ACD_4p0mm/Neutrons/neutron_7000keV_Nr_1000000000_ISO_nt_G4CNPTEPC_t7.csv\n",
      "\n",
      "------------------------------------------------------------\n",
      "Neutron Energy: \t\t8000  keV\n",
      "------------------------------------------------------------\n",
      "Importing: ../Results/ACD_4p0mm/Neutrons/neutron_8000keV_Nr_1000000000_ISO_nt_G4CNPTEPC_t0.csv\n",
      "Importing: ../Results/ACD_4p0mm/Neutrons/neutron_8000keV_Nr_1000000000_ISO_nt_G4CNPTEPC_t1.csv\n",
      "Importing: ../Results/ACD_4p0mm/Neutrons/neutron_8000keV_Nr_1000000000_ISO_nt_G4CNPTEPC_t2.csv\n",
      "Importing: ../Results/ACD_4p0mm/Neutrons/neutron_8000keV_Nr_1000000000_ISO_nt_G4CNPTEPC_t3.csv\n",
      "Importing: ../Results/ACD_4p0mm/Neutrons/neutron_8000keV_Nr_1000000000_ISO_nt_G4CNPTEPC_t4.csv\n",
      "Importing: ../Results/ACD_4p0mm/Neutrons/neutron_8000keV_Nr_1000000000_ISO_nt_G4CNPTEPC_t5.csv\n",
      "Importing: ../Results/ACD_4p0mm/Neutrons/neutron_8000keV_Nr_1000000000_ISO_nt_G4CNPTEPC_t6.csv\n",
      "Importing: ../Results/ACD_4p0mm/Neutrons/neutron_8000keV_Nr_1000000000_ISO_nt_G4CNPTEPC_t7.csv\n",
      "\n",
      "------------------------------------------------------------\n",
      "Neutron Energy: \t\t9000  keV\n",
      "------------------------------------------------------------\n",
      "Importing: ../Results/ACD_4p0mm/Neutrons/neutron_9000keV_Nr_1000000000_ISO_nt_G4CNPTEPC_t0.csv\n",
      "Importing: ../Results/ACD_4p0mm/Neutrons/neutron_9000keV_Nr_1000000000_ISO_nt_G4CNPTEPC_t1.csv\n",
      "Importing: ../Results/ACD_4p0mm/Neutrons/neutron_9000keV_Nr_1000000000_ISO_nt_G4CNPTEPC_t2.csv\n",
      "Importing: ../Results/ACD_4p0mm/Neutrons/neutron_9000keV_Nr_1000000000_ISO_nt_G4CNPTEPC_t3.csv\n",
      "Importing: ../Results/ACD_4p0mm/Neutrons/neutron_9000keV_Nr_1000000000_ISO_nt_G4CNPTEPC_t4.csv\n",
      "Importing: ../Results/ACD_4p0mm/Neutrons/neutron_9000keV_Nr_1000000000_ISO_nt_G4CNPTEPC_t5.csv\n",
      "Importing: ../Results/ACD_4p0mm/Neutrons/neutron_9000keV_Nr_1000000000_ISO_nt_G4CNPTEPC_t6.csv\n",
      "Importing: ../Results/ACD_4p0mm/Neutrons/neutron_9000keV_Nr_1000000000_ISO_nt_G4CNPTEPC_t7.csv\n",
      "\n",
      "Total number of events: \t\t6923797\n",
      "Number of coincidence events: \t\t1436443\n",
      "Number of anti-coincidence events: \t40434\n",
      "Number of sub-threshold events: \t85693\n"
     ]
    }
   ],
   "source": [
    "##########################################################################################\n",
    "# Load the simulation data for neutrons\n",
    "# DataFrame = []\n",
    "\n",
    "for InputEnergy in InputEnergies_Neutron[InputEnergies_Neutron.argsort()]:\n",
    "    # Create data file template from current energy \n",
    "    DataFilename = 'neutron_' + str(InputEnergy) + 'keV_Nr_1000000000_ISO_nt_G4CNPTEPC_t*.csv'\n",
    "    \n",
    "    # Print energy \n",
    "    print '\\n------------------------------------------------------------'\n",
    "    print 'Neutron Energy: \\t\\t', str(InputEnergy), ' keV'\n",
    "    print '------------------------------------------------------------'\n",
    "\n",
    "    ##########################################################################################\n",
    "    # Process the simulation data files\n",
    "    # Column 0 - Energy deposited in the TEPC sensitive volume [eV]\n",
    "    # Column 1 - Track length of particles that entirely traverse the TEPC [mm]\n",
    "    # Column 2 - Energy deposited in the plastic scintillator [eV]\n",
    "    for dataFile in glob.glob(DataFolder_Neutron + DataFilename):  \n",
    "        print 'Importing: ' + dataFile\n",
    "        df = pandas.read_csv(dataFile, header=-1, skiprows=6, usecols=[0,1,2])\n",
    "        DataFrame.append(df) \n",
    "    \n",
    "    # Merge the DataFrames from each file\n",
    "    Data = pandas.concat(DataFrame).values\n",
    "\n",
    "# Print the number of total events\n",
    "print '\\nTotal number of events: \\t\\t', Data[:,0].size\n",
    "print 'Number of coincidence events: \\t\\t', Data[np.logical_and((Data[:,2] > Thr_ACD),(Data[:,0] > Thr_TEPC)),0].size\n",
    "print 'Number of anti-coincidence events: \\t', Data[np.logical_and((Data[:,2] <= Thr_ACD),(Data[:,0] > Thr_TEPC)),0].size\n",
    "print 'Number of sub-threshold events: \\t', Data[np.logical_and((Data[:,2] <= Thr_ACD),(Data[:,0] <= Thr_TEPC)),0].size"
   ]
  },
  {
   "cell_type": "code",
   "execution_count": 6,
   "metadata": {
    "collapsed": false
   },
   "outputs": [],
   "source": [
    "##########################################################################################\n",
    "# Logarithmic bin generation\n",
    "\n",
    "# Mean Chord Length\n",
    "xchord = 2.0*2/3       # 2 um Tissue Size \n",
    "\n",
    "# Logarithmic scale parameters\n",
    "ymin = 0.1\n",
    "ymax = 1000.0\n",
    "B = 30\n",
    "N = np.log10(ymax/ymin)\n",
    "  \n",
    "# Logarithmic bin generation\n",
    "i = np.arange(B*N)\n",
    "y2 = ymin*10**(i/B)\n",
    "y2low = y2*10**(-0.5/B)\n",
    "y2up = y2*10**(0.5/B)"
   ]
  },
  {
   "cell_type": "code",
   "execution_count": 7,
   "metadata": {
    "collapsed": false
   },
   "outputs": [
    {
     "name": "stderr",
     "output_type": "stream",
     "text": [
      "/opt/local/Library/Frameworks/Python.framework/Versions/2.7/lib/python2.7/site-packages/numpy/lib/function_base.py:4480: VisibleDeprecationWarning: using a non-integer number instead of an integer will result in an error in the future\n",
      "  new[slobj] = arr[slobj]\n",
      "/opt/local/Library/Frameworks/Python.framework/Versions/2.7/lib/python2.7/site-packages/numpy/lib/function_base.py:4482: VisibleDeprecationWarning: using a non-integer number instead of an integer will result in an error in the future\n",
      "  new[slobj] = values\n",
      "/opt/local/Library/Frameworks/Python.framework/Versions/2.7/lib/python2.7/site-packages/numpy/lib/function_base.py:4486: VisibleDeprecationWarning: using a non-integer number instead of an integer will result in an error in the future\n",
      "  new[slobj] = arr[slobj2]\n"
     ]
    }
   ],
   "source": [
    "##########################################################################################\n",
    "# Redistribution of data in logarithmic scale\n",
    "\n",
    "# Convert from energy deposited to linear energy (keV/um) \n",
    "# Note energy deposited is in units of eV\n",
    "y = Data[Data[:,0] > Thr_TEPC,0]/xchord/1000;\n",
    "y_COINC = Data[np.logical_and((Data[:,2] > Thr_ACD),(Data[:,0] > Thr_TEPC)),0]/xchord/1000;\n",
    "y_ACOINC = Data[np.logical_and((Data[:,2] <= Thr_ACD),(Data[:,0] > Thr_TEPC)),0]/xchord/1000;\n",
    "\n",
    "# Use Numpy to bin the data into the new logarithmic bins\n",
    "# This is much faster than looping through the data\n",
    "Ny, bins = np.histogram(y, bins=np.insert(y2up, y2up[0],y2low[0]))\n",
    "Ny_COINC, bins = np.histogram(y_COINC, bins=np.insert(y2up, y2up[0],y2low[0]))\n",
    "Ny_ACOINC, bins = np.histogram(y_ACOINC, bins=np.insert(y2up, y2up[0],y2low[0]))\n",
    "\n",
    "# Create Y-Axis (yNy)\n",
    "yNy = Ny*y2\n",
    "yNy_COINC = Ny_COINC*y2\n",
    "yNy_ACOINC = Ny_ACOINC*y2\n",
    "ydy = (yNy/np.sum(yNy))*B/np.log(10)\n",
    "ydy_COINC = (yNy_COINC/np.sum(yNy))*B/np.log(10)\n",
    "ydy_ACOINC = (yNy_ACOINC/np.sum(yNy))*B/np.log(10)"
   ]
  },
  {
   "cell_type": "code",
   "execution_count": 8,
   "metadata": {
    "collapsed": false
   },
   "outputs": [
    {
     "name": "stdout",
     "output_type": "stream",
     "text": [
      "Plot saved to: ../Results/ACD_4p0mm/G4CNPTEPC_ydy_3panel.pdf\n"
     ]
    },
    {
     "data": {
      "image/png": "[encoded data removed]",
      "text/plain": [
       "<matplotlib.figure.Figure at 0x10ba68fd0>"
      ]
     },
     "metadata": {},
     "output_type": "display_data"
    }
   ],
   "source": [
    "##########################################################################################\n",
    "# Plot the y vs. ydy spectrum data\n",
    "fig_ydy, (ax_ydy,ax_ydy_coinc,ax_ydy_acoinc) = plt.subplots(3, sharex=True,figsize=(fig_size[0],fig_size[1]*2))\n",
    "\n",
    "# Combine y2low and y2up to create bins\n",
    "y2_bins = np.concatenate((y2low,y2up))\n",
    "y2_bins.sort(kind='mergesort')\n",
    "\n",
    "ax_ydy.semilogx(y2_bins, np.repeat(ydy, 2), linewidth=1.0, label=\"Total Dose\", color='black', lw=2)\n",
    "ax_ydy_coinc.semilogx(y2_bins, np.repeat(ydy_COINC, 2), linewidth=1.0, label=\"Proton Dose (Coincidence)\", color='blue', lw=2)\n",
    "ax_ydy_acoinc.semilogx(y2_bins, np.repeat(ydy_ACOINC, 2), linewidth=1.0, label=\"Neutron Dose (Anti-Coincidence)\", color='red', lw=2)\n",
    "\n",
    "# Figure Properties\n",
    "ax_ydy_acoinc.set_xlabel('Lineal Energy, y(keV/um)')\n",
    "ax_ydy.set_ylabel('yd(y)')   \n",
    "ax_ydy_coinc.set_ylabel('yd(y)')  \n",
    "ax_ydy_acoinc.set_ylabel('yd(y)')  \n",
    "ax_ydy.set_xlim(ymin, ymax)\n",
    "ax_ydy_coinc.set_xlim(ymin, ymax)\n",
    "ax_ydy_acoinc.set_xlim(ymin, ymax)\n",
    "ax_ydy.set_ylim(0, 0.3)\n",
    "ax_ydy.set_yticks([0.1,0.2,0.3,0.4])\n",
    "ax_ydy_coinc.set_ylim(0, 0.3)\n",
    "ax_ydy_coinc.set_yticks([0.1,0.2,0.3,0.4])\n",
    "ax_ydy_acoinc.set_ylim(0, 0.3)\n",
    "ax_ydy_acoinc.set_yticks([0.1,0.2,0.3,0.4])\n",
    "\n",
    "from matplotlib.ticker import ScalarFormatter, FormatStrFormatter\n",
    "ax_ydy.xaxis.set_major_formatter(FormatStrFormatter('%.1f'))\n",
    "ax_ydy.yaxis.set_major_formatter(ScalarFormatter())\n",
    "\n",
    "ax_ydy.legend(loc='upper right')\n",
    "ax_ydy_coinc.legend(loc='upper left')\n",
    "ax_ydy_acoinc.legend(loc='upper left')\n",
    "\n",
    "# Fine-tune figure \n",
    "# Make subplots close to each other\n",
    "fig_ydy.tight_layout()\n",
    "fig_ydy.subplots_adjust(hspace=0)\n",
    "\n",
    "# Save the figure \n",
    "file_ydy = 'G4CNPTEPC_ydy_3panel.pdf'\n",
    "plt.savefig('../Results/ACD_4p0mm/' + file_ydy, bbox_inches=\"tight\")\n",
    "print 'Plot saved to: ' + ('../Results/ACD_4p0mm/'+file_ydy)\n",
    "\n",
    "# Show the figure\n",
    "plt.show(fig_ydy)"
   ]
  },
  {
   "cell_type": "code",
   "execution_count": 14,
   "metadata": {
    "collapsed": false
   },
   "outputs": [
    {
     "name": "stdout",
     "output_type": "stream",
     "text": [
      "Plot saved to: ../Results/ACD_4p0mm/G4CNPTEPC_ydy_1panel.pdf\n"
     ]
    },
    {
     "data": {
      "image/png": "[encoded data removed]",
      "text/plain": [
       "<matplotlib.figure.Figure at 0x10c5dfd90>"
      ]
     },
     "metadata": {},
     "output_type": "display_data"
    }
   ],
   "source": [
    "##########################################################################################\n",
    "# Plot the y vs. ydy spectrum data\n",
    "fig_ydy, (ax_ydy) = plt.subplots()\n",
    "\n",
    "ax_ydy.semilogx(y2_bins, np.repeat(ydy, 2), lw=1.25, label=\"Total Dose\", color='green', linestyle=\"-\", drawstyle='steps')\n",
    "ax_ydy.semilogx(y2_bins, np.repeat(ydy_COINC, 2), lw=1.25, label=\"Proton Dose (Coincidence)\", color='blue', linestyle=\"-\", drawstyle='steps')\n",
    "ax_ydy.semilogx(y2_bins, np.repeat(ydy_ACOINC, 2), lw=1.25, label=\"Neutron Dose (Anti-Coincidence)\", color='red', linestyle=\"-\", drawstyle='steps')\n",
    "\n",
    "# Figure Properties\n",
    "ax_ydy.set_xlabel('Lineal Energy, y(keV/um)')\n",
    "ax_ydy.set_ylabel('yd(y)')   \n",
    "ax_ydy.set_xlim(ymin, ymax)\n",
    "ax_ydy.set_ylim(0, 0.3)\n",
    "ax_ydy.set_yticks([0.05,0.1,0.15,0.2,0.25,0.3])\n",
    "\n",
    "from matplotlib.ticker import ScalarFormatter, FormatStrFormatter\n",
    "ax_ydy.xaxis.set_major_formatter(FormatStrFormatter('%.1f'))\n",
    "ax_ydy.yaxis.set_major_formatter(FormatStrFormatter('%.2f'))\n",
    "\n",
    "ax_ydy.legend(loc='upper center')\n",
    "\n",
    "# Fine-tune figure \n",
    "fig_ydy.tight_layout()\n",
    "\n",
    "# Save the figure \n",
    "file_ydy = 'G4CNPTEPC_ydy_1panel.pdf'\n",
    "plt.savefig('../Results/ACD_4p0mm/' + file_ydy, bbox_inches=\"tight\")\n",
    "print 'Plot saved to: ' + ('../Results/ACD_4p0mm/'+file_ydy)\n",
    "\n",
    "# Show the figure\n",
    "plt.show(fig_ydy)"
   ]
  },
  {
   "cell_type": "code",
   "execution_count": 10,
   "metadata": {
    "collapsed": true
   },
   "outputs": [],
   "source": [
    "##########################################################################################\n",
    "# Calculate the errors in each Ny bin\n",
    "Ny_err, bins_Ny_err = np.histogram(np.sqrt(Ny)/Ny*100, bins=50, range=[0,5], normed=False, weights=None, density=None)"
   ]
  },
  {
   "cell_type": "code",
   "execution_count": 11,
   "metadata": {
    "collapsed": false
   },
   "outputs": [
    {
     "data": {
      "image/png": "[encoded data removed]",
      "text/plain": [
       "<matplotlib.figure.Figure at 0x10b982250>"
      ]
     },
     "metadata": {},
     "output_type": "display_data"
    }
   ],
   "source": [
    "##########################################################################################\n",
    "# Plot the errors\n",
    "fig_Ny_err, ax_Ny_err = plt.subplots(1,1)\n",
    "\n",
    "plt.plot(bins_Ny_err[1:], Ny_err, linewidth=1.0)\n",
    "\n",
    "# Figure Properties\n",
    "ax_Ny_err.set_xlabel('\\% Error')\n",
    "ax_Ny_err.set_ylabel('Entries')   \n",
    "ax_Ny_err.set_xlim(0, 5)\n",
    "\n",
    "# Tight Layout\n",
    "plt.tight_layout()\n",
    "\n",
    "# Save the figure \n",
    "# file_Ny_err = DataFilename.split('.')[0][:-1]+'_error.pdf'\n",
    "# plt.savefig(DataFolder + file_Ny_err, bbox_inches=\"tight\")\n",
    "# print 'Plot saved to: ' + (DataFolder+file_Ny_err)\n",
    "\n",
    "# Show the figure\n",
    "plt.show(fig_Ny_err)"
   ]
  },
  {
   "cell_type": "code",
   "execution_count": null,
   "metadata": {
    "collapsed": true
   },
   "outputs": [],
   "source": []
  }
 ],
 "metadata": {
  "kernelspec": {
   "display_name": "Python 2",
   "language": "python",
   "name": "python2"
  },
  "language_info": {
   "codemirror_mode": {
    "name": "ipython",
    "version": 2
   },
   "file_extension": ".py",
   "mimetype": "text/x-python",
   "name": "python",
   "nbconvert_exporter": "python",
   "pygments_lexer": "ipython2",
   "version": "2.7.11"
  }
 },
 "nbformat": 4,
 "nbformat_minor": 0
}
