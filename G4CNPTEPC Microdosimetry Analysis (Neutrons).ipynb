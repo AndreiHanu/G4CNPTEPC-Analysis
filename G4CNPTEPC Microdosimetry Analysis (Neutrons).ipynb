{
 "cells": [
  {
   "cell_type": "markdown",
   "metadata": {},
   "source": [
    "# NEUTRON: Microdosimetric analysis of Geant4 CNPTEPC simulation data\n",
    "## Andrei R. Hanu - andrei.hanu@nasa.gov"
   ]
  },
  {
   "cell_type": "code",
   "execution_count": 50,
   "metadata": {
    "collapsed": true
   },
   "outputs": [],
   "source": [
    "# Matplotlib - 2D plotting library\n",
    "from matplotlib import pyplot as plt\n",
    "from matplotlib import rcParams\n",
    "\n",
    "# Show matplotlib figures inline the notebook\n",
    "%matplotlib inline\n",
    "\n",
    "# Pandas - High-performance data analysis\n",
    "import pandas\n",
    "\n",
    "# Glob - Unix style pathname pattern expansion\n",
    "# Used to aggregate folders and files into a single list so they can be iterated over\n",
    "import glob\n",
    "\n",
    "# Numpy - For handling of large, multi-dimensional arrays and matrices\n",
    "import numpy as np\n",
    "\n",
    "# Color palette library for Python\n",
    "# How to choose a colour scheme for your data:\n",
    "# http://earthobservatory.nasa.gov/blogs/elegantfigures/2013/08/05/subtleties-of-color-part-1-of-6/\n",
    "import brewer2mpl"
   ]
  },
  {
   "cell_type": "code",
   "execution_count": 51,
   "metadata": {
    "collapsed": false
   },
   "outputs": [],
   "source": [
    "##########################################################################################\n",
    "# Setting rcParams for publication quality graphs\n",
    "fig_width_pt = 246.0                    # Get this from LaTeX using \\showthe\\columnwidth\n",
    "inches_per_pt = 1.0/72.27               # Convert pt to inch\n",
    "golden_mean = (np.sqrt(5)-1.0)/2.0      # Aesthetic ratio\n",
    "fig_width = fig_width_pt*inches_per_pt  # Width in inches\n",
    "fig_height = fig_width*golden_mean      # Height in inches\n",
    "fig_size =  [fig_width, fig_height]\n",
    "# fig_size =  [7.3,4.2]\n",
    "fig_size =  [7.3*1.25,4.2*1.25]\n",
    "# fig_size =  [7.3*1.5,4.2*1.5]\n",
    "# fig_size =  [7.3*2,4.2*2]\n",
    "params = {'backend': 'pdf',\n",
    "        'axes.labelsize': 10,\n",
    "        'legend.fontsize': 9,\n",
    "        'xtick.labelsize': 10,\n",
    "        'ytick.labelsize': 10,\n",
    "        'xtick.major.size': 6,\n",
    "        'xtick.major.width': 1,\n",
    "        'xtick.minor.size': 2.5,\n",
    "        'xtick.minor.width': 1,\n",
    "        'ytick.major.size': 6,\n",
    "        'ytick.major.width': 1,\n",
    "        'ytick.minor.size': 2.5,\n",
    "        'ytick.minor.width': 1,\n",
    "        'font.family': 'sans-serif',\n",
    "        'font.sans-serif': 'Avant Garde',\n",
    "        'font.size': 10,\n",
    "        'text.usetex': True,\n",
    "        'figure.figsize': fig_size}\n",
    "\n",
    "# Update rcParams\n",
    "rcParams.update(params)"
   ]
  },
  {
   "cell_type": "code",
   "execution_count": 52,
   "metadata": {
    "collapsed": true
   },
   "outputs": [],
   "source": [
    "# Energy threshold for detection (eV)\n",
    "Thr_TEPC = 0.\n",
    "Thr_ACD = 1e6"
   ]
  },
  {
   "cell_type": "code",
   "execution_count": 53,
   "metadata": {
    "collapsed": false
   },
   "outputs": [
    {
     "name": "stdout",
     "output_type": "stream",
     "text": [
      "Importing: ../Results/Scint_4mm_PV_1mm_Lid_1mm/Neutrons (GB03)/neutron_11keV_Nr_1000000000_ISO_nt_G4CNPTEPC_t0.csv\n",
      "Importing: ../Results/Scint_4mm_PV_1mm_Lid_1mm/Neutrons (GB03)/neutron_11keV_Nr_1000000000_ISO_nt_G4CNPTEPC_t1.csv\n",
      "Importing: ../Results/Scint_4mm_PV_1mm_Lid_1mm/Neutrons (GB03)/neutron_11keV_Nr_1000000000_ISO_nt_G4CNPTEPC_t2.csv\n",
      "Importing: ../Results/Scint_4mm_PV_1mm_Lid_1mm/Neutrons (GB03)/neutron_11keV_Nr_1000000000_ISO_nt_G4CNPTEPC_t3.csv\n",
      "Importing: ../Results/Scint_4mm_PV_1mm_Lid_1mm/Neutrons (GB03)/neutron_11keV_Nr_1000000000_ISO_nt_G4CNPTEPC_t4.csv\n",
      "Importing: ../Results/Scint_4mm_PV_1mm_Lid_1mm/Neutrons (GB03)/neutron_11keV_Nr_1000000000_ISO_nt_G4CNPTEPC_t5.csv\n",
      "Importing: ../Results/Scint_4mm_PV_1mm_Lid_1mm/Neutrons (GB03)/neutron_11keV_Nr_1000000000_ISO_nt_G4CNPTEPC_t6.csv\n",
      "Importing: ../Results/Scint_4mm_PV_1mm_Lid_1mm/Neutrons (GB03)/neutron_11keV_Nr_1000000000_ISO_nt_G4CNPTEPC_t7.csv\n",
      "Total number of events: \t\t31520.3508203\n",
      "Number of coincidence events: \t\t593.873381894\n",
      "Number of anti-coincidence events: \t30926.4774385\n",
      "Number of sub-threshold events: \t0.0\n"
     ]
    }
   ],
   "source": [
    "##########################################################################################\n",
    "# Load the simulation data\n",
    "DataFrame = []\n",
    "\n",
    "##########################################################################################\n",
    "# Data location folder\n",
    "# Data filename template\n",
    "DataFolder = '../Results/Scint_4mm_PV_1mm_Lid_1mm/Neutrons (GB03)/'\n",
    "DataFilename = 'neutron_11keV_Nr_1000000000_ISO_nt_G4CNPTEPC_t*.csv'\n",
    "\n",
    "##########################################################################################\n",
    "# Process the simulation data files\n",
    "# Column 0 - Energy deposited in the TEPC sensitive volume [eV]\n",
    "# Column 1 - Track length of particles that entirely traverse the TEPC [mm]\n",
    "# Column 2 - Energy deposited in the plastic scintillator [eV]\n",
    "# Column 3 - Particle weight\n",
    "for dataFile in glob.glob(DataFolder + DataFilename):  \n",
    "    print 'Importing: ' + dataFile\n",
    "    df = pandas.read_csv(dataFile, header=-1, skiprows=7, usecols=[0,1,2,3])\n",
    "    DataFrame.append(df) \n",
    "    \n",
    "# Merge the DataFrames from each file\n",
    "Data = pandas.concat(DataFrame).values\n",
    "\n",
    "# Print the number of total events (weighted)\n",
    "print 'Total number of events: \\t\\t', Data[:,3].sum()\n",
    "print 'Number of coincidence events: \\t\\t', Data[np.logical_and((Data[:,0] > Thr_TEPC),(Data[:,2] > Thr_ACD)),3].sum()\n",
    "print 'Number of anti-coincidence events: \\t', Data[np.logical_and((Data[:,0] > Thr_TEPC),(Data[:,2] <= Thr_ACD)),3].sum()\n",
    "print 'Number of sub-threshold events: \\t', Data[np.logical_and((Data[:,0] <= Thr_TEPC),(Data[:,2] <= Thr_ACD)),3].sum()"
   ]
  },
  {
   "cell_type": "code",
   "execution_count": 54,
   "metadata": {
    "collapsed": false
   },
   "outputs": [],
   "source": [
    "##########################################################################################\n",
    "# Logarithmic bin generation\n",
    "\n",
    "# Mean Chord Length\n",
    "xchord = 2.0*2/3       # 2 um Tissue Size \n",
    "\n",
    "# Logarithmic scale parameters\n",
    "ymin = 0.1\n",
    "ymax = 1000.0\n",
    "B = 30\n",
    "N = np.log10(ymax/ymin)\n",
    "  \n",
    "# Logarithmic bin generation\n",
    "i = np.arange(B*N)\n",
    "y2 = ymin*10**(i/B)\n",
    "y2low = y2*10**(-0.5/B)\n",
    "y2up = y2*10**(0.5/B)"
   ]
  },
  {
   "cell_type": "code",
   "execution_count": 55,
   "metadata": {
    "collapsed": false
   },
   "outputs": [],
   "source": [
    "##########################################################################################\n",
    "# Redistribution of data in logarithmic scale\n",
    "\n",
    "# Convert from energy deposited to linear energy (keV/um) \n",
    "# Note energy deposited is in units of eV\n",
    "y = Data[Data[:,0] > Thr_TEPC,0]/xchord/1000;\n",
    "y_COINC = Data[np.logical_and((Data[:,0] > Thr_TEPC),(Data[:,2] > Thr_ACD)),0]/xchord/1000;\n",
    "y_ACOINC = Data[np.logical_and((Data[:,0] > Thr_TEPC),(Data[:,2] <= Thr_ACD)),0]/xchord/1000;\n",
    "\n",
    "# Get the event weight (ie. Geant4 particle weight due to event biasing)\n",
    "y_weight = Data[Data[:,0] > Thr_TEPC,3]\n",
    "y_COINC_weight = Data[np.logical_and((Data[:,0] > Thr_TEPC),(Data[:,2] > Thr_ACD)),3]\n",
    "y_ACOINC_weight = Data[np.logical_and((Data[:,0] > Thr_TEPC),(Data[:,2] <= Thr_ACD)),3]\n",
    "\n",
    "# Use Numpy to bin the data into the new logarithmic bins\n",
    "# This is much faster than looping through the data\n",
    "# Weighted\n",
    "Ny, bins = np.histogram(y/y_weight, bins=np.insert(y2up, y2up[0],y2low[0]),weights=y_weight)\n",
    "Ny_COINC, bins = np.histogram(y_COINC/y_COINC_weight, bins=np.insert(y2up, y2up[0],y2low[0]),weights=y_COINC_weight)\n",
    "Ny_ACOINC, bins = np.histogram(y_ACOINC/y_ACOINC_weight, bins=np.insert(y2up, y2up[0],y2low[0]),weights=y_ACOINC_weight)\n",
    "\n",
    "# Unweighted\n",
    "# Ny, bins = np.histogram(y/y_weight, bins=np.insert(y2up, y2up[0],y2low[0]))\n",
    "# Ny_COINC, bins = np.histogram(y_COINC/y_COINC_weight, bins=np.insert(y2up, y2up[0],y2low[0]))\n",
    "# Ny_ACOINC, bins = np.histogram(y_ACOINC/y_ACOINC_weight, bins=np.insert(y2up, y2up[0],y2low[0]))\n",
    "\n",
    "# Create Y-Axis (yNy)\n",
    "yNy = Ny*y2\n",
    "yNy_COINC = Ny_COINC*y2\n",
    "yNy_ACOINC = Ny_ACOINC*y2\n",
    "ydy = (yNy/np.sum(yNy))*B/np.log(10)\n",
    "ydy_COINC = (yNy_COINC/np.sum(yNy_COINC))*B/np.log(10)\n",
    "ydy_ACOINC = (yNy_ACOINC/np.sum(yNy_ACOINC))*B/np.log(10)"
   ]
  },
  {
   "cell_type": "code",
   "execution_count": 56,
   "metadata": {
    "collapsed": false
   },
   "outputs": [
    {
     "name": "stdout",
     "output_type": "stream",
     "text": [
      "Plot saved to: ../Results/Scint_4mm_PV_1mm_Lid_1mm/Neutrons (GB03)/neutron_11keV_Nr_1000000000_ISO_nt_G4CNPTEPC_t_Ny_3panel.pdf\n"
     ]
    },
    {
     "data": {
      "image/png": "[encoded data removed]",
      "text/plain": [
       "<matplotlib.figure.Figure at 0x11701f9d0>"
      ]
     },
     "metadata": {},
     "output_type": "display_data"
    }
   ],
   "source": [
    "##########################################################################################\n",
    "# Plot the y vs. yNy spectrum data\n",
    "fig_Ny, (ax_Ny,ax_Ny_coinc,ax_Ny_acoinc) = plt.subplots(3, sharex=True,figsize=(fig_size[0],fig_size[1]*2))\n",
    "\n",
    "# Combine y2low and y2up to create bins\n",
    "y2_bins = np.concatenate((y2low,y2up))\n",
    "y2_bins.sort(kind='mergesort')\n",
    "# print y2_bins\n",
    "\n",
    "ax_Ny.semilogx(y2_bins, np.repeat(Ny, 2), linewidth=1.0, label=\"Integral Mode\", color='black', lw=2)\n",
    "ax_Ny_coinc.semilogx(y2_bins, np.repeat(Ny_COINC, 2), linewidth=1.0, label=\"Coincidence Mode\", color='blue', lw=2)\n",
    "ax_Ny_acoinc.semilogx(y2_bins, np.repeat(Ny_ACOINC, 2), linewidth=1.0, label=\"Anti-Coincidence Mode\", color='red', lw=2)\n",
    "\n",
    "# Figure Properties\n",
    "ax_Ny_acoinc.set_xlabel('Lineal Energy, y(keV/um)')\n",
    "ax_Ny.set_ylabel('N(y)')   \n",
    "ax_Ny_coinc.set_ylabel('N(y)')  \n",
    "ax_Ny_acoinc.set_ylabel('N(y)')  \n",
    "ax_Ny.set_xlim(ymin, ymax)\n",
    "ax_Ny_coinc.set_xlim(ymin, ymax)\n",
    "ax_Ny_acoinc.set_xlim(ymin, ymax)\n",
    "\n",
    "# Remove the last ticks label from the bottom and middle y-axis subplot  \n",
    "plt.setp(ax_Ny_coinc.get_yticklabels()[-1], visible=False)\n",
    "plt.setp(ax_Ny_acoinc.get_yticklabels()[-1], visible=False)\n",
    "\n",
    "from matplotlib.ticker import ScalarFormatter, FormatStrFormatter\n",
    "ax_Ny.xaxis.set_major_formatter(FormatStrFormatter('%.1f'))\n",
    "ax_Ny.yaxis.set_major_formatter(ScalarFormatter())\n",
    "\n",
    "ax_Ny.legend(loc='upper left')\n",
    "ax_Ny_coinc.legend(loc='upper left')\n",
    "ax_Ny_acoinc.legend(loc='upper left')\n",
    "\n",
    "# Fine-tune figure \n",
    "# Make subplots close to each other\n",
    "fig_Ny.tight_layout()\n",
    "fig_Ny.subplots_adjust(hspace=0)\n",
    "\n",
    "# Save the figure \n",
    "file_Ny = DataFilename.split('.')[0][:-1]+'_Ny_3panel.pdf'\n",
    "plt.savefig(DataFolder + file_Ny, bbox_inches=\"tight\")\n",
    "print 'Plot saved to: ' + (DataFolder+file_Ny)\n",
    "\n",
    "# Show the figure\n",
    "plt.show(fig_Ny)"
   ]
  },
  {
   "cell_type": "code",
   "execution_count": 57,
   "metadata": {
    "collapsed": false
   },
   "outputs": [
    {
     "name": "stdout",
     "output_type": "stream",
     "text": [
      "Plot saved to: ../Results/Scint_4mm_PV_1mm_Lid_1mm/Neutrons (GB03)/neutron_11keV_Nr_1000000000_ISO_nt_G4CNPTEPC_t_yNy_3panel.pdf\n"
     ]
    },
    {
     "data": {
      "image/png": "[encoded data removed]",
      "text/plain": [
       "<matplotlib.figure.Figure at 0x1169bbfd0>"
      ]
     },
     "metadata": {},
     "output_type": "display_data"
    }
   ],
   "source": [
    "##########################################################################################\n",
    "# Plot the y vs. yNy spectrum data\n",
    "fig_yNy, (ax_yNy,ax_yNy_coinc,ax_yNy_acoinc) = plt.subplots(3, sharex=True,figsize=(fig_size[0],fig_size[1]*2))\n",
    "\n",
    "# Combine y2low and y2up to create bins\n",
    "y2_bins = np.concatenate((y2low,y2up))\n",
    "y2_bins.sort(kind='mergesort')\n",
    "# print y2_bins\n",
    "\n",
    "ax_yNy.semilogx(y2_bins, np.repeat(yNy, 2), linewidth=1.0, label=\"Integral Mode\", color='black', lw=2)\n",
    "ax_yNy_coinc.semilogx(y2_bins, np.repeat(yNy_COINC, 2), linewidth=1.0, label=\"Coincidence Mode\", color='blue', lw=2)\n",
    "ax_yNy_acoinc.semilogx(y2_bins, np.repeat(yNy_ACOINC, 2), linewidth=1.0, label=\"Anti-Coincidence Mode\", color='red', lw=2)\n",
    "\n",
    "# Figure Properties\n",
    "ax_yNy_acoinc.set_xlabel('Lineal Energy, y(keV/um)')\n",
    "ax_yNy.set_ylabel('yN(y)')   \n",
    "ax_yNy_coinc.set_ylabel('yN(y)')  \n",
    "ax_yNy_acoinc.set_ylabel('yN(y)')  \n",
    "ax_yNy.set_xlim(ymin, ymax)\n",
    "ax_yNy_coinc.set_xlim(ymin, ymax)\n",
    "ax_yNy_acoinc.set_xlim(ymin, ymax)\n",
    "# ax_yNy.set_ylim(0, 1.0)\n",
    "# ax_yNy.set_yticks([0.2,0.4,0.6,0.8])\n",
    "# ax_yNy_coinc.set_ylim(0, 1.0)\n",
    "# ax_yNy_coinc.set_yticks([0.2,0.4,0.6,0.8])\n",
    "# ax_yNy_acoinc.set_ylim(0, 1.0)\n",
    "# ax_yNy_acoinc.set_yticks([0.2,0.4,0.6,0.8])\n",
    "\n",
    "# Remove the last ticks label from the bottom and middle y-axis subplot  \n",
    "plt.setp(ax_yNy_coinc.get_yticklabels()[-1], visible=False)\n",
    "plt.setp(ax_yNy_acoinc.get_yticklabels()[-1], visible=False)\n",
    "\n",
    "from matplotlib.ticker import ScalarFormatter, FormatStrFormatter\n",
    "ax_yNy.xaxis.set_major_formatter(FormatStrFormatter('%.1f'))\n",
    "ax_yNy.yaxis.set_major_formatter(ScalarFormatter())\n",
    "\n",
    "ax_yNy.legend(loc='upper left')\n",
    "ax_yNy_coinc.legend(loc='upper left')\n",
    "ax_yNy_acoinc.legend(loc='upper left')\n",
    "\n",
    "# Fine-tune figure \n",
    "# Make subplots close to each other\n",
    "fig_yNy.tight_layout()\n",
    "fig_yNy.subplots_adjust(hspace=0)\n",
    "\n",
    "# Save the figure \n",
    "file_yNy = DataFilename.split('.')[0][:-1]+'_yNy_3panel.pdf'\n",
    "plt.savefig(DataFolder + file_yNy, bbox_inches=\"tight\")\n",
    "print 'Plot saved to: ' + (DataFolder+file_yNy)\n",
    "\n",
    "# Show the figure\n",
    "plt.show(fig_yNy)"
   ]
  },
  {
   "cell_type": "code",
   "execution_count": 58,
   "metadata": {
    "collapsed": false
   },
   "outputs": [
    {
     "name": "stdout",
     "output_type": "stream",
     "text": [
      "Plot saved to: ../Results/Scint_4mm_PV_1mm_Lid_1mm/Neutrons (GB03)/neutron_11keV_Nr_1000000000_ISO_nt_G4CNPTEPC_t_yNy_1panel.pdf\n"
     ]
    },
    {
     "data": {
      "image/png": "[encoded data removed]",
      "text/plain": [
       "<matplotlib.figure.Figure at 0x1179d9d90>"
      ]
     },
     "metadata": {},
     "output_type": "display_data"
    }
   ],
   "source": [
    "##########################################################################################\n",
    "# Plot the y vs. ydy spectrum data\n",
    "fig_yNy, (ax_yNy) = plt.subplots()\n",
    "\n",
    "ax_yNy.semilogx(y2_bins, np.repeat(yNy, 2), lw=1.25, label=\"Integral Mode\", color='green', linestyle=\"-\", drawstyle='steps')\n",
    "ax_yNy.semilogx(y2_bins, np.repeat(yNy_COINC, 2), lw=1.25, label=\"Coincidence Mode\", color='blue', linestyle=\"-\", drawstyle='steps')\n",
    "ax_yNy.semilogx(y2_bins, np.repeat(yNy_ACOINC, 2), lw=1.25, label=\"Anti-Coincidence Mode\", color='red', linestyle=\"-\", drawstyle='steps')\n",
    "\n",
    "# Figure Properties\n",
    "ax_yNy.set_xlabel('Lineal Energy, y(keV/um)')\n",
    "ax_yNy.set_ylabel('yN(y)')   \n",
    "ax_yNy.set_xlim(ymin, ymax)\n",
    "# ax_yNy.set_ylim(0, 0.6)\n",
    "# ax_yNy.set_yticks([0.1,0.2,0.3,0.4,0.5,0.6])\n",
    "\n",
    "from matplotlib.ticker import ScalarFormatter, FormatStrFormatter\n",
    "ax_yNy.xaxis.set_major_formatter(FormatStrFormatter('%.1f'))\n",
    "ax_yNy.yaxis.set_major_formatter(ScalarFormatter())\n",
    "\n",
    "ax_yNy.legend(loc='upper center')\n",
    "\n",
    "# Fine-tune figure \n",
    "fig_yNy.tight_layout()\n",
    "\n",
    "# Save the figure \n",
    "file_yNy = DataFilename.split('.')[0][:-1]+'_yNy_1panel.pdf'\n",
    "plt.savefig(DataFolder + file_yNy, bbox_inches=\"tight\")\n",
    "print 'Plot saved to: ' + (DataFolder+file_yNy)\n",
    "\n",
    "# Show the figure\n",
    "plt.show(fig_yNy)"
   ]
  },
  {
   "cell_type": "code",
   "execution_count": 59,
   "metadata": {
    "collapsed": false
   },
   "outputs": [],
   "source": [
    "##########################################################################################\n",
    "# Calculate the errors in each Ny bin\n",
    "Ny_err, bins_Ny_err = np.histogram(np.sqrt(Ny)/Ny*100, bins=50, range=[0,100], normed=False, weights=None, density=None)"
   ]
  },
  {
   "cell_type": "code",
   "execution_count": 60,
   "metadata": {
    "collapsed": false
   },
   "outputs": [
    {
     "name": "stdout",
     "output_type": "stream",
     "text": [
      "Plot saved to: ../Results/Scint_4mm_PV_1mm_Lid_1mm/Neutrons (GB03)/neutron_11keV_Nr_1000000000_ISO_nt_G4CNPTEPC_t_error.pdf\n"
     ]
    },
    {
     "data": {
      "image/png": "[encoded data removed]",
      "text/plain": [
       "<matplotlib.figure.Figure at 0x1179d9810>"
      ]
     },
     "metadata": {},
     "output_type": "display_data"
    }
   ],
   "source": [
    "##########################################################################################\n",
    "# Plot the errors\n",
    "fig_Ny_err, ax_Ny_err = plt.subplots(1,1)\n",
    "\n",
    "# Create the bin pairs\n",
    "Ny_err_bins = np.concatenate((bins_Ny_err,bins_Ny_err[1:-1]))\n",
    "Ny_err_bins.sort(kind='mergesort')\n",
    "\n",
    "ax_Ny_err.plot(Ny_err_bins,\n",
    "               np.repeat(Ny_err, 2), lw=1., label=\"Integral Mode\", color='blue', linestyle=\"-\", drawstyle='steps')\n",
    "\n",
    "# Figure Properties\n",
    "ax_Ny_err.set_xlabel('\\% Error')\n",
    "ax_Ny_err.set_ylabel('Entries')   \n",
    "ax_Ny_err.set_xlim(np.min(bins_Ny_err), np.max(bins_Ny_err))\n",
    "\n",
    "# Tight Layout\n",
    "plt.tight_layout()\n",
    "\n",
    "# Save the figure \n",
    "file_Ny_err = DataFilename.split('.')[0][:-1]+'_error.pdf'\n",
    "plt.savefig(DataFolder + file_Ny_err, bbox_inches=\"tight\")\n",
    "print 'Plot saved to: ' + (DataFolder+file_Ny_err)\n",
    "\n",
    "# Show the figure\n",
    "plt.show(fig_Ny_err)"
   ]
  },
  {
   "cell_type": "code",
   "execution_count": 61,
   "metadata": {
    "collapsed": false
   },
   "outputs": [
    {
     "name": "stdout",
     "output_type": "stream",
     "text": [
      "TEPC Energy (eV) - Min:  7.23591209895e-92  Median:  102.426  Max:  681217.0\n",
      "ACD Energy (eV) - Min:  0.0  Median:  11005.7  Max:  85945600.0\n",
      "Plot saved to: ../Results/Scint_4mm_PV_1mm_Lid_1mm/Neutrons (GB03)/neutron_11keV_Nr_1000000000_ISO_nt_G4CNPTEPC_t_eDep.pdf\n"
     ]
    },
    {
     "data": {
      "image/png": "[encoded data removed]",
      "text/plain": [
       "<matplotlib.figure.Figure at 0x1125103d0>"
      ]
     },
     "metadata": {},
     "output_type": "display_data"
    }
   ],
   "source": [
    "from matplotlib.colors import LogNorm\n",
    "\n",
    "eDep_TEPC = Data[:,0]/Data[:,3]\n",
    "eDep_ACD = Data[:,2]\n",
    "print \"TEPC Energy (eV) - Min: \",np.min(eDep_TEPC),\" Median: \",np.median(eDep_TEPC),\" Max: \",np.max(eDep_TEPC)\n",
    "print \"ACD Energy (eV) - Min: \",np.min(eDep_ACD),\" Median: \",np.median(eDep_ACD),\" Max: \",np.max(eDep_ACD)\n",
    "\n",
    "##########################################################################################\n",
    "# Plot of energy deposited in TEPC \n",
    "\n",
    "# Fix the number of bins\n",
    "numBins = 3E2\n",
    "\n",
    "# Create histogram\n",
    "fig_eDep, ax_eDep = plt.subplots(1,1)\n",
    "\n",
    "# Draw histogram\n",
    "H = ax_eDep.hist2d(eDep_TEPC,eDep_ACD, numBins, range=np.array([(1E0, 3E5), (1E1, 1.75E7)]), \n",
    "                   cmap=brewer2mpl.get_map('Reds', 'sequential', 9, reverse=False).mpl_colormap,\n",
    "                   norm=LogNorm())\n",
    "\n",
    "# Draw the color bar\n",
    "cbar = fig_eDep.colorbar(H[3], ax=ax_eDep, spacing='uniform', label='Number of Events')\n",
    "cbar.solids.set_edgecolor(\"face\")\n",
    "\n",
    "# Figure Properties\n",
    "ax_eDep.set_xlabel(r'$\\Delta$E in TEPC (eV)')\n",
    "ax_eDep.set_ylabel(r'$\\Delta$E in ACD (eV)')   \n",
    "ax_eDep.set_xlim(np.min(H[1]), np.max(H[1]))\n",
    "ax_eDep.set_ylim(np.min(H[2]), np.max(H[2]))\n",
    "\n",
    "from matplotlib.ticker import ScalarFormatter\n",
    "ax_eDep.xaxis.set_major_formatter(ScalarFormatter())\n",
    "ax_eDep.yaxis.set_major_formatter(ScalarFormatter())\n",
    "\n",
    "# Tight Layout\n",
    "plt.tight_layout()\n",
    "\n",
    "# Save the figure \n",
    "file_eDep = DataFilename.split('.')[0][:-1]+'_eDep.pdf'\n",
    "plt.savefig(DataFolder + file_eDep, bbox_inches=\"tight\")\n",
    "print 'Plot saved to: ' + (DataFolder+file_eDep)\n",
    "\n",
    "# Show the figure\n",
    "plt.show(fig_eDep)"
   ]
  },
  {
   "cell_type": "code",
   "execution_count": null,
   "metadata": {
    "collapsed": true
   },
   "outputs": [],
   "source": []
  }
 ],
 "metadata": {
  "kernelspec": {
   "display_name": "Python 2",
   "language": "python",
   "name": "python2"
  },
  "language_info": {
   "codemirror_mode": {
    "name": "ipython",
    "version": 2
   },
   "file_extension": ".py",
   "mimetype": "text/x-python",
   "name": "python",
   "nbconvert_exporter": "python",
   "pygments_lexer": "ipython2",
   "version": "2.7.11"
  }
 },
 "nbformat": 4,
 "nbformat_minor": 0
}
