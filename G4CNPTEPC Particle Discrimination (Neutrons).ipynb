{
 "cells": [
  {
   "cell_type": "markdown",
   "metadata": {},
   "source": [
    "# Particle discrimination of simulated electron data in Geant4 CNPTEPC \n",
    "## Andrei R. Hanu - andrei.hanu@nasa.gov"
   ]
  },
  {
   "cell_type": "code",
   "execution_count": 1,
   "metadata": {
    "collapsed": true
   },
   "outputs": [],
   "source": [
    "# Matplotlib - 2D plotting library\n",
    "from matplotlib import pyplot as plt\n",
    "from matplotlib import rcParams\n",
    "\n",
    "# Show matplotlib figures inline the notebook\n",
    "%matplotlib inline\n",
    "\n",
    "# Pandas - High-performance data analysis\n",
    "import pandas\n",
    "\n",
    "# Glob - Unix style pathname pattern expansion\n",
    "# Used to aggregate folders and files into a single list so they can be iterated over\n",
    "import glob\n",
    "\n",
    "# Numpy - For handling of large, multi-dimensional arrays and matrices\n",
    "import numpy as np\n",
    "\n",
    "# Color palette library for Python\n",
    "# How to choose a colour scheme for your data:\n",
    "# http://earthobservatory.nasa.gov/blogs/elegantfigures/2013/08/05/subtleties-of-color-part-1-of-6/\n",
    "import brewer2mpl"
   ]
  },
  {
   "cell_type": "code",
   "execution_count": 2,
   "metadata": {
    "collapsed": false
   },
   "outputs": [],
   "source": [
    "##########################################################################################\n",
    "# Setting rcParams for publication quality graphs\n",
    "fig_width_pt = 246.0                    # Get this from LaTeX using \\showthe\\columnwidth\n",
    "inches_per_pt = 1.0/72.27               # Convert pt to inch\n",
    "golden_mean = (np.sqrt(5)-1.0)/2.0      # Aesthetic ratio\n",
    "fig_width = fig_width_pt*inches_per_pt  # Width in inches\n",
    "fig_height = fig_width*golden_mean      # Height in inches\n",
    "fig_size =  [fig_width, fig_height]\n",
    "# fig_size =  [7.3,4.2]\n",
    "fig_size =  [7.3*1.25,4.2*1.25]\n",
    "# fig_size =  [7.3*1.5,4.2*1.5]\n",
    "# fig_size =  [7.3*2,4.2*2]\n",
    "params = {'backend': 'pdf',\n",
    "        'axes.labelsize': 10,\n",
    "        'legend.fontsize': 9,\n",
    "        'xtick.labelsize': 10,\n",
    "        'ytick.labelsize': 10,\n",
    "        'xtick.major.size': 6,\n",
    "        'xtick.major.width': 1,\n",
    "        'xtick.minor.size': 2.5,\n",
    "        'xtick.minor.width': 1,\n",
    "        'ytick.major.size': 6,\n",
    "        'ytick.major.width': 1,\n",
    "        'ytick.minor.size': 2.5,\n",
    "        'ytick.minor.width': 1,\n",
    "        'font.family': 'sans-serif',\n",
    "        'font.sans-serif': 'Avant Garde',\n",
    "        'font.size': 10,\n",
    "        'text.usetex': True,\n",
    "        'figure.figsize': fig_size}\n",
    "\n",
    "# Update rcParams\n",
    "rcParams.update(params)"
   ]
  },
  {
   "cell_type": "code",
   "execution_count": 3,
   "metadata": {
    "collapsed": false
   },
   "outputs": [],
   "source": [
    "##########################################################################################\n",
    "# Energy of incident particles (Electrons)\n",
    "InputEnergies = np.array([np.linspace(1000,9000, num=9, endpoint=True, dtype = int),\n",
    "                np.linspace(10000,90000, num=9, endpoint=True, dtype = int)\n",
    "                ]).flatten()\n",
    "\n",
    "# Folder containing simulation data\n",
    "DataFolder = '../Results/ACD_4p0mm/Electrons/'\n",
    "\n",
    "##########################################################################################\n",
    "# Energy thresholds (in eV) for events that will be included in the analysis\n",
    "Thr_TEPC = 100.\n",
    "Thr_ACD = 100."
   ]
  },
  {
   "cell_type": "code",
   "execution_count": 4,
   "metadata": {
    "collapsed": false
   },
   "outputs": [
    {
     "ename": "ValueError",
     "evalue": "No objects to concatenate",
     "output_type": "error",
     "traceback": [
      "\u001b[0;31m---------------------------------------------------------------------------\u001b[0m",
      "\u001b[0;31mValueError\u001b[0m                                Traceback (most recent call last)",
      "\u001b[0;32m<ipython-input-4-a6e62b6b9daa>\u001b[0m in \u001b[0;36m<module>\u001b[0;34m()\u001b[0m\n\u001b[1;32m     20\u001b[0m \u001b[0;34m\u001b[0m\u001b[0m\n\u001b[1;32m     21\u001b[0m \u001b[0;31m# Merge the DataFrames from each file\u001b[0m\u001b[0;34m\u001b[0m\u001b[0;34m\u001b[0m\u001b[0m\n\u001b[0;32m---> 22\u001b[0;31m \u001b[0mData\u001b[0m \u001b[0;34m=\u001b[0m \u001b[0mpandas\u001b[0m\u001b[0;34m.\u001b[0m\u001b[0mconcat\u001b[0m\u001b[0;34m(\u001b[0m\u001b[0mDataFrame\u001b[0m\u001b[0;34m)\u001b[0m\u001b[0;34m.\u001b[0m\u001b[0mvalues\u001b[0m\u001b[0;34m\u001b[0m\u001b[0m\n\u001b[0m\u001b[1;32m     23\u001b[0m \u001b[0;34m\u001b[0m\u001b[0m\n\u001b[1;32m     24\u001b[0m \u001b[0;31m# Print the number of total events\u001b[0m\u001b[0;34m\u001b[0m\u001b[0;34m\u001b[0m\u001b[0m\n",
      "\u001b[0;32m/opt/local/Library/Frameworks/Python.framework/Versions/2.7/lib/python2.7/site-packages/pandas/tools/merge.pyc\u001b[0m in \u001b[0;36mconcat\u001b[0;34m(objs, axis, join, join_axes, ignore_index, keys, levels, names, verify_integrity, copy)\u001b[0m\n\u001b[1;32m    810\u001b[0m                        \u001b[0mkeys\u001b[0m\u001b[0;34m=\u001b[0m\u001b[0mkeys\u001b[0m\u001b[0;34m,\u001b[0m \u001b[0mlevels\u001b[0m\u001b[0;34m=\u001b[0m\u001b[0mlevels\u001b[0m\u001b[0;34m,\u001b[0m \u001b[0mnames\u001b[0m\u001b[0;34m=\u001b[0m\u001b[0mnames\u001b[0m\u001b[0;34m,\u001b[0m\u001b[0;34m\u001b[0m\u001b[0m\n\u001b[1;32m    811\u001b[0m                        \u001b[0mverify_integrity\u001b[0m\u001b[0;34m=\u001b[0m\u001b[0mverify_integrity\u001b[0m\u001b[0;34m,\u001b[0m\u001b[0;34m\u001b[0m\u001b[0m\n\u001b[0;32m--> 812\u001b[0;31m                        copy=copy)\n\u001b[0m\u001b[1;32m    813\u001b[0m     \u001b[0;32mreturn\u001b[0m \u001b[0mop\u001b[0m\u001b[0;34m.\u001b[0m\u001b[0mget_result\u001b[0m\u001b[0;34m(\u001b[0m\u001b[0;34m)\u001b[0m\u001b[0;34m\u001b[0m\u001b[0m\n\u001b[1;32m    814\u001b[0m \u001b[0;34m\u001b[0m\u001b[0m\n",
      "\u001b[0;32m/opt/local/Library/Frameworks/Python.framework/Versions/2.7/lib/python2.7/site-packages/pandas/tools/merge.pyc\u001b[0m in \u001b[0;36m__init__\u001b[0;34m(self, objs, axis, join, join_axes, keys, levels, names, ignore_index, verify_integrity, copy)\u001b[0m\n\u001b[1;32m    843\u001b[0m \u001b[0;34m\u001b[0m\u001b[0m\n\u001b[1;32m    844\u001b[0m         \u001b[0;32mif\u001b[0m \u001b[0mlen\u001b[0m\u001b[0;34m(\u001b[0m\u001b[0mobjs\u001b[0m\u001b[0;34m)\u001b[0m \u001b[0;34m==\u001b[0m \u001b[0;36m0\u001b[0m\u001b[0;34m:\u001b[0m\u001b[0;34m\u001b[0m\u001b[0m\n\u001b[0;32m--> 845\u001b[0;31m             \u001b[0;32mraise\u001b[0m \u001b[0mValueError\u001b[0m\u001b[0;34m(\u001b[0m\u001b[0;34m'No objects to concatenate'\u001b[0m\u001b[0;34m)\u001b[0m\u001b[0;34m\u001b[0m\u001b[0m\n\u001b[0m\u001b[1;32m    846\u001b[0m \u001b[0;34m\u001b[0m\u001b[0m\n\u001b[1;32m    847\u001b[0m         \u001b[0;32mif\u001b[0m \u001b[0mkeys\u001b[0m \u001b[0;32mis\u001b[0m \u001b[0mNone\u001b[0m\u001b[0;34m:\u001b[0m\u001b[0;34m\u001b[0m\u001b[0m\n",
      "\u001b[0;31mValueError\u001b[0m: No objects to concatenate"
     ]
    }
   ],
   "source": [
    "##########################################################################################\n",
    "# Load the simulation data\n",
    "DataFrame = []\n",
    "\n",
    "##########################################################################################\n",
    "# Data location folder\n",
    "# Data filename template\n",
    "DataFolder = '../Results/ACD_4p0mm/Electrons/'\n",
    "DataFilename = 'e-_100000keV_Nr_100000000_ISO_nt_G4CNPTEPC_t*.csv'\n",
    "\n",
    "##########################################################################################\n",
    "# Process the simulation data files\n",
    "# Column 0 - Energy deposited in the TEPC sensitive volume [eV]\n",
    "# Column 1 - Track length of particles that entirely traverse the TEPC [mm]\n",
    "# Column 2 - Energy deposited in the plastic scintillator [eV]\n",
    "for dataFile in glob.glob(DataFolder + DataFilename):  \n",
    "    print 'Importing data file: ' + dataFile\n",
    "    df = pandas.read_csv(dataFile, header=-1, skiprows=6, usecols=[0,1,2])\n",
    "    DataFrame.append(df) \n",
    "    \n",
    "# Merge the DataFrames from each file\n",
    "Data = pandas.concat(DataFrame).values\n",
    "\n",
    "# Print the number of total events\n",
    "print '\\nTotal number of events: \\t\\t', Data[:,0].size\n",
    "print 'Number of coincidence events: \\t\\t', Data[np.logical_and((Data[:,2] > Thr_ACD),(Data[:,0] > Thr_TEPC)),0].size\n",
    "print 'Number of anti-coincidence events: \\t', Data[np.logical_and((Data[:,2] <= Thr_ACD),(Data[:,0] > Thr_TEPC)),0].size\n",
    "print 'Number of sub-threshold events: \\t', Data[np.logical_and((Data[:,2] <= Thr_ACD),(Data[:,0] <= Thr_TEPC)),0].size"
   ]
  },
  {
   "cell_type": "code",
   "execution_count": null,
   "metadata": {
    "collapsed": false
   },
   "outputs": [],
   "source": [
    "eDep_TEPC = Data[np.logical_and((Data[:,2] > Thr_ACD),(Data[:,0] > Thr_TEPC)),0]\n",
    "eDep_ACD = Data[np.logical_and((Data[:,2] > Thr_ACD),(Data[:,0] > Thr_TEPC)),2]\n",
    "print np.min(eDep_TEPC),np.median(eDep_TEPC),np.max(eDep_TEPC), eDep_TEPC.size\n",
    "print np.min(eDep_ACD),np.median(eDep_ACD),np.max(eDep_ACD), eDep_ACD.size\n",
    "\n",
    "##########################################################################################\n",
    "# Plot of energy deposited in TEPC \n",
    "\n",
    "# Fix the number of bins\n",
    "numBins = 5E2\n",
    "\n",
    "# Create histogram\n",
    "fig_eDep, ax_eDep = plt.subplots(1,1)\n",
    "\n",
    "# Draw histogram\n",
    "H = ax_eDep.hist2d(eDep_TEPC,eDep_ACD, numBins, range=np.array([(1E2, 1E3), (1E5, 1E7)]), \n",
    "                   cmap=brewer2mpl.get_map('RdPu', 'sequential', 9, reverse=False).mpl_colormap)\n",
    "\n",
    "# Draw the color bar\n",
    "cbar = fig_eDep.colorbar(H[3], ax=ax_eDep, spacing='uniform', label='Number of Events')\n",
    "cbar.solids.set_edgecolor(\"face\")\n",
    "\n",
    "# Figure Properties\n",
    "ax_eDep.set_xlabel(r'$\\Delta$E in TEPC (eV)')\n",
    "ax_eDep.set_ylabel(r'$\\Delta$E in ACD (eV)')   \n",
    "ax_eDep.set_xlim(np.min(H[1]), np.max(H[1]))\n",
    "ax_eDep.set_ylim(np.min(H[2]), np.max(H[2]))\n",
    "\n",
    "from matplotlib.ticker import ScalarFormatter\n",
    "ax_eDep.xaxis.set_major_formatter(ScalarFormatter())\n",
    "ax_eDep.yaxis.set_major_formatter(ScalarFormatter())\n",
    "\n",
    "# Tight Layout\n",
    "plt.tight_layout()\n",
    "\n",
    "# Save the figure \n",
    "file_eDep = DataFilename.split('.')[0][:-1]+'_eDep.pdf'\n",
    "plt.savefig(DataFolder + file_eDep, bbox_inches=\"tight\")\n",
    "print 'Plot saved to: ' + (DataFolder+file_eDep)\n",
    "\n",
    "# Show the figure\n",
    "plt.show(fig_eDep)"
   ]
  },
  {
   "cell_type": "code",
   "execution_count": null,
   "metadata": {
    "collapsed": true
   },
   "outputs": [],
   "source": []
  }
 ],
 "metadata": {
  "kernelspec": {
   "display_name": "Python 2",
   "language": "python",
   "name": "python2"
  },
  "language_info": {
   "codemirror_mode": {
    "name": "ipython",
    "version": 2
   },
   "file_extension": ".py",
   "mimetype": "text/x-python",
   "name": "python",
   "nbconvert_exporter": "python",
   "pygments_lexer": "ipython2",
   "version": "2.7.11"
  }
 },
 "nbformat": 4,
 "nbformat_minor": 0
}
