{
 "cells": [
  {
   "cell_type": "markdown",
   "metadata": {},
   "source": [
    "# G4CNPTEPC Particle identification using the ΔE-E technique \n",
    "By Andrei R. Hanu - <andrei.hanu@nasa.gov>\n",
    "\n",
    "## Introduction\n",
    "The primary goal of the CNP-TEPC development is to develop a dosimeter that has isotropic sensitivity to radiation and the capability to discriminate charged particle and neutral interactions in real-time. \n",
    "\n",
    "The ΔE-E technique is a well known particle identification technique within the cosmic ray community and applicable when energetic particles with kinetic energy E pass through two or more detector layers and are stopped. The distribution of energy depositions ΔE within the detectors layers is different for different particles due to their different stopping powers."
   ]
  },
  {
   "cell_type": "code",
   "execution_count": 15,
   "metadata": {
    "collapsed": true
   },
   "outputs": [],
   "source": [
    "# Matplotlib - 2D plotting library\n",
    "from matplotlib import pyplot as plt\n",
    "from matplotlib import rcParams\n",
    "from matplotlib import colors\n",
    "from mpl_toolkits.axes_grid1 import ImageGrid\n",
    "\n",
    "# Show matplotlib figures inline the notebook\n",
    "%matplotlib inline\n",
    "\n",
    "# Pandas - High-performance data analysis\n",
    "import pandas\n",
    "\n",
    "# Glob - Unix style pathname pattern expansion\n",
    "# Used to aggregate folders and files into a single list so they can be iterated over\n",
    "import glob\n",
    "\n",
    "# Numpy - For handling of large, multi-dimensional arrays and matrices\n",
    "import numpy as np\n",
    "\n",
    "# System calls\n",
    "import sys\n",
    "\n",
    "# Color palette library for Python\n",
    "# How to choose a colour scheme for your data:\n",
    "# http://earthobservatory.nasa.gov/blogs/elegantfigures/2013/08/05/subtleties-of-color-part-1-of-6/\n",
    "import brewer2mpl\n",
    "\n",
    "# Divide integers\n",
    "from __future__ import division\n",
    "\n",
    "##########################################################################################\n",
    "# Setting rcParams for publication quality graphs\n",
    "fig_width_pt = 246.0                    # Get this from LaTeX using \\showthe\\columnwidth\n",
    "inches_per_pt = 1.0/72.27               # Convert pt to inch\n",
    "golden_mean = (np.sqrt(5)-1.0)/2.0      # Aesthetic ratio\n",
    "fig_width = fig_width_pt*inches_per_pt  # Width in inches\n",
    "fig_height = fig_width*golden_mean      # Height in inches\n",
    "fig_size =  [fig_width, fig_height]\n",
    "# fig_size =  [7.3,4.2]\n",
    "fig_size =  [7.3*1.25,4.2*1.25]\n",
    "# fig_size =  [7.3*1.5,4.2*1.5]\n",
    "# fig_size =  [7.3*2,4.2*2]\n",
    "params = {'backend': 'pdf',\n",
    "        'axes.labelsize': 10,\n",
    "        'legend.fontsize': 9,\n",
    "        'xtick.labelsize': 10,\n",
    "        'ytick.labelsize': 10,\n",
    "        'xtick.major.size': 6,\n",
    "        'xtick.major.width': 1,\n",
    "        'xtick.minor.size': 2.5,\n",
    "        'xtick.minor.width': 1,\n",
    "        'ytick.major.size': 6,\n",
    "        'ytick.major.width': 1,\n",
    "        'ytick.minor.size': 2.5,\n",
    "        'ytick.minor.width': 1,\n",
    "        'font.family': 'sans-serif',\n",
    "        'font.sans-serif': 'Avant Garde',\n",
    "        'font.size': 10,\n",
    "        'text.usetex': True,\n",
    "        'figure.figsize': fig_size}\n",
    "\n",
    "# Update rcParams\n",
    "rcParams.update(params)"
   ]
  },
  {
   "cell_type": "code",
   "execution_count": 16,
   "metadata": {
    "collapsed": false
   },
   "outputs": [
    {
     "name": "stdout",
     "output_type": "stream",
     "text": [
      "Input Electron Energies:  [  1000   1125   1266   1425   1603   1804   2030   2285   2571   2894\n",
      "   3257   3665   4124   4641   5223   5878   6614   7443   8376   9426\n",
      "  10608  11937  13433  15117  17012  19144  21544  24244  27283  30702\n",
      "  34551  38881  43754  49238  55410  62355  70170  78965  88862 100000]\n"
     ]
    }
   ],
   "source": [
    "##########################################################################################\n",
    "# Energy of incident particles (Neutrons)\n",
    "# InputEnergies = np.array([np.linspace(100,900, num=9, endpoint=True, dtype = int),\n",
    "#                           np.linspace(1000,9000, num=9, endpoint=True, dtype = int),\n",
    "#                           np.linspace(10000,90000, num=9, endpoint=True, dtype = int)\n",
    "#                 ]).flatten()\n",
    "\n",
    "InputEnergies = np.logspace(3.0, 5.0, num=40).astype(int)\n",
    "\n",
    "# Folder containing simulation data\n",
    "DataFolder = '../Results/Scint_4mm_PV_1mm_Lid_1mm/Electrons/'\n",
    "\n",
    "# Print a list of input electron energies\n",
    "# InputEnergies = InputEnergies[0:30]\n",
    "print \"Input Electron Energies: \", InputEnergies\n",
    "# for InputEnergy in InputEnergies[InputEnergies.argsort()]:\n",
    "#     print InputEnergy/1E3, \"\\t\""
   ]
  },
  {
   "cell_type": "code",
   "execution_count": 17,
   "metadata": {
    "collapsed": true
   },
   "outputs": [],
   "source": [
    "##########################################################################################\n",
    "# Custom 2D energy histogramming function used to generate the particle identification \n",
    "# plot\n",
    "def hist2D_E1E2(E1,E2,E1_range,E2_range,E1_bins,E2_bins):\n",
    "    \"\"\" \n",
    "    The following helper function can be used to perform 2D histogram binning for the ΔE-E \n",
    "    plots\n",
    "    \n",
    "    E1 and E2 are energy input lists\n",
    "    E1_range define the range of E1 energy bins\n",
    "    E2_range define the range of E2 energy bins\n",
    "    \n",
    "    E1_bins and E2_bins specifies the # of bins within the range\n",
    "    \"\"\"\n",
    "    # Compute the E1-width\n",
    "    E1_min,E1_max = E1_range\n",
    "    E1_min = float(E1_min)\n",
    "    E1_max = float(E1_max)\n",
    "    E1_width = E1_max-E1_min\n",
    "    \n",
    "    # Compute the E2-width\n",
    "    E2_min,E2_max = E2_range\n",
    "    E2_min = float(E2_min)\n",
    "    E2_max = float(E2_max)\n",
    "    E2_width = E2_max-E2_min\n",
    "    \n",
    "    # Sub functions to find the E1 & E2 bin indices\n",
    "    def E1_bin(E1val):\n",
    "        return np.floor(E1_bins*(E1val-E1_min)/E1_width) if E1_min <= E1val < E1_max else float(E1_bins-1) if E1val >= E1_max else 0. if E1val < E1_min else None\n",
    "    \n",
    "    def E2_bin(E2val):\n",
    "        return np.floor(E2_bins*(E2val-E2_min)/E2_width) if E2_min <= E2val < E2_max else float(E2_bins-1) if E2val >= E2_max else 0. if E2val < E2_min else None\n",
    "    \n",
    "    # Create an empty histogram\n",
    "    hist_E1E2 = np.zeros((E1_bins,E2_bins)) \n",
    "    \n",
    "    # Fill the histogram\n",
    "    for dE1,dE2 in zip(E1,E2):\n",
    "        i_E1,i_E2 = E1_bin(dE1),E2_bin(dE2)\n",
    "        \n",
    "        if i_E1 is not None and i_E2 is not None:\n",
    "            hist_E1E2[i_E1,i_E2] += 1 \n",
    "        \n",
    "    extent = (E1_min,E1_max,E2_min,E2_max)\n",
    "    pixelSize = (E1_width/E1_bins,E2_width/E2_bins)\n",
    "    \n",
    "    return hist_E1E2,extent,pixelSize"
   ]
  },
  {
   "cell_type": "code",
   "execution_count": 18,
   "metadata": {
    "collapsed": false
   },
   "outputs": [
    {
     "name": "stdout",
     "output_type": "stream",
     "text": [
      "Finished processing data files for 1000 keV\n",
      "Finished processing data files for 1125 keV\n",
      "Finished processing data files for 1266 keV\n",
      "Finished processing data files for 1425 keV\n",
      "Finished processing data files for 1603 keV\n",
      "Finished processing data files for 1804 keV\n",
      "Finished processing data files for 2030 keV\n",
      "Finished processing data files for 2285 keV\n",
      "Finished processing data files for 2571 keV\n",
      "Finished processing data files for 2894 keV\n",
      "Finished processing data files for 3257 keV\n",
      "Finished processing data files for 3665 keV\n",
      "Finished processing data files for 4124 keV\n",
      "Finished processing data files for 4641 keV\n",
      "Finished processing data files for 5223 keV\n",
      "Finished processing data files for 5878 keV\n",
      "Finished processing data files for 6614 keV\n",
      "Finished processing data files for 7443 keV\n",
      "Finished processing data files for 8376 keV\n",
      "Finished processing data files for 9426 keV\n",
      "Finished processing data files for 10608 keV\n",
      "Finished processing data files for 11937 keV\n",
      "Finished processing data files for 13433 keV\n",
      "Finished processing data files for 15117 keV\n",
      "Finished processing data files for 17012 keV\n",
      "Finished processing data files for 19144 keV\n",
      "Finished processing data files for 21544 keV\n",
      "Finished processing data files for 24244 keV\n",
      "Finished processing data files for 27283 keV\n",
      "Finished processing data files for 30702 keV\n",
      "Finished processing data files for 34551 keV\n",
      "Finished processing data files for 38881 keV\n",
      "Finished processing data files for 43754 keV\n",
      "Finished processing data files for 49238 keV\n",
      "Finished processing data files for 55410 keV\n",
      "Finished processing data files for 62355 keV\n",
      "Finished processing data files for 70170 keV\n",
      "Finished processing data files for 78965 keV\n",
      "Finished processing data files for 88862 keV\n",
      "Finished processing data files for 100000 keV\n"
     ]
    }
   ],
   "source": [
    "##########################################################################################\n",
    "# Loop through the simulation data for each input energy and \n",
    "# calculate the ΔE-E energy histogram\n",
    "\n",
    "# Specify the histogram parameters (Energy in eV)\n",
    "dE_ACD_range = (1E5, 1E7)\n",
    "dE_ACD_bins = 100\n",
    "dE_TEPC_range = (0., 1E3)\n",
    "dE_TEPC_bins = 1000\n",
    "\n",
    "# Create an empty 2D Numpy array to histogram dE_ACD vs electron energy\n",
    "Hist_dE_ACD = np.zeros((dE_ACD_bins,InputEnergies.shape[0]), dtype=np.int)\n",
    "Hist_dE_TEPC = np.zeros((dE_TEPC_bins,InputEnergies.shape[0]), dtype=np.int)\n",
    "iHist = 0\n",
    "\n",
    "# Loop through the input energies to process the data\n",
    "for InputEnergy in InputEnergies[InputEnergies.argsort()]:\n",
    "    # Create data file template from current energy \n",
    "    DataFilename = 'e-_' + str(InputEnergy) + 'keV_Nr_*_ISO_nt_G4CNPTEPC_t*.csv*'\n",
    "    \n",
    "    ##########################################################################################\n",
    "    # Process the simulation data files\n",
    "    # Column 0 - Energy deposited in the TEPC sensitive volume [eV]\n",
    "    # Column 1 - Track length of particles that entirely traverse the TEPC [mm]\n",
    "    # Column 2 - Energy deposited in the plastic scintillator [eV]\n",
    "    for dataFile in glob.glob(DataFolder + DataFilename):  \n",
    "        # Readout CSV files\n",
    "        try:\n",
    "            dataFrame = pandas.read_csv(dataFile, compression='gzip', header=-1, skiprows=6,\n",
    "                                       names=('dE_TEPC',\n",
    "                                       'trackLength_TEPC',\n",
    "                                       'dE_ACD'))\n",
    "#             dataFrame = pandas.read_csv(dataFile, header=-1, skiprows=6, usecols=[0,2]).values\n",
    "\n",
    "#             print dataFrame.head()\n",
    "            # Histogram the dE_ACD\n",
    "            Hist_dE_ACD[:,iHist] += np.histogram(dataFrame.dE_ACD,\n",
    "                                                 bins=dE_ACD_bins,\n",
    "                                                 range=dE_ACD_range,\n",
    "                                                 normed=False, \n",
    "                                                 weights=None, \n",
    "                                                 density=None)[0]\n",
    "        \n",
    "            # Histogram the dE_TEPC\n",
    "            Hist_dE_TEPC[:,iHist] += np.histogram(dataFrame.dE_TEPC,\n",
    "                                                 bins=dE_TEPC_bins,\n",
    "                                                 range=dE_TEPC_range,\n",
    "                                                 normed=False, \n",
    "                                                 weights=None, \n",
    "                                                 density=None)[0]\n",
    "            \n",
    "\n",
    "#             print np.column_stack((dataFrame[:,0],dataFrame[:,2]))\n",
    "            # Pass this data frame through the histogramming routine\n",
    "#             PID_Hist, PID_extent, PID_pixelSize = hist2D_E1E2(dataFrame.dE_TEPC,dataFrame.dE_ACD,E1_range,E2_range,E1_bins,E2_bins)\n",
    "        \n",
    "        except:\n",
    "            print \"Failed to process \" + dataFile.split('/')[-1] + \" (Exception: \" + sys.exc_info()[0].__name__ + \")\"\n",
    "            pass\n",
    "    \n",
    "    # Let me know when all the data files for a given energy have been processed\n",
    "    print 'Finished processing data files for', InputEnergy, 'keV'\n",
    "    \n",
    "    # Increment the current Histogram index\n",
    "    iHist += 1"
   ]
  },
  {
   "cell_type": "code",
   "execution_count": 19,
   "metadata": {
    "collapsed": false
   },
   "outputs": [
    {
     "name": "stdout",
     "output_type": "stream",
     "text": [
      "[13 15 13 12  7  0  0  0  0  0  0  0  0  0  0  0  0  0  0  0  0  0  0  0  0\n",
      "  0  0  0  0  0  0  0  0  0  0  0  0  0  0  0  0  0  0  0  0  0  0  0  0  0\n",
      "  0  0  0  0  0  0  0  0  0  0  0  0  0  0  0  0  0  0  0  0  0  0  0  0  0\n",
      "  0  0  0  0  0  0  0  0  0  0  0  0  0  0  0  0  0  0  0  0  0  0  0  0  0]\n",
      "[0 0 0 0 0 0 0 0 0 0 0 0 0 0 1 2 2 0 1 1 0 1 1 0 0 0 1 0 0 0 0 0 3 1 1 0 0\n",
      " 0 0 0 0 0 0 0 0 1 0 0 0 1 0 0 1 0 1 0 0 0 1 2 1 0 0 1 3 0 3 0 2 0 0 0 0 0\n",
      " 0 0 1 0 0 0 0 1 1 1 0 1 1 0 0 0 0 0 0 2 1 0 0 0 0 0 0 0 2 0 0 2 4 1 3 2 0\n",
      " 1 0 2 0 0 1 1 0 1 3 0 0 1 2 1 1 1 0 0 0 0 0 1 1 1 1 3 0 2 0 1 1 1 1 0 0 1\n",
      " 1 0 2 0 0 1 1 0 0 1 1 0 3 1 0 0 0 0 0 1 1 1 0 1 1 1 1 0 1 2 1 0 1 1 0 2 0\n",
      " 1 1 0 0 0 2 1 1 0 0 2 3 0 1 2 2 0 1 3 0 1 1 2 1 2 1 4 0 0 2 1 0 1 0 0 0 3\n",
      " 0 0 0 0 0 0 0 1 2 1 3 1 1 0 0 1 0 0 0 2 1 1 0 0 1 3 1 1 0 0 0 1 1 2 1 3 1\n",
      " 1 1 0 1 0 0 1 0 1 0 0 2 0 2 3 0 0 1 1 0 3 0 1 0 0 1 0 0 1 3 0 0 1 0 0 0 0\n",
      " 1 1 1 0 0 1 1 0 1 2 0 1 0 1 1 1 1 2 4 0 2 2 1 1 1 0 1 1 1 0 1 2 0 0 1 1 1\n",
      " 1 1 0 0 1 1 0 1 0 0 0 2 1 0 0 0 1 0 1 0 0 0 0 0 0 0 0 0 1 0 0 1 1 1 0 1 1\n",
      " 0 1 1 0 1 2 1 0 0 0 1 1 1 2 0 0 1 0 0 1 0 0 1 0 1 0 0 1 1 1 0 2 1 2 0 0 0\n",
      " 1 0 0 0 1 0 0 1 0 0 0 1 0 0 1 0 1 2 2 0 1 0 0 1 1 1 0 0 0 0 0 1 1 1 1 0 1\n",
      " 1 0 0 1 0 1 2 0 1 1 0 0 0 0 0 0 2 0 2 0 2 2 1 0 0 0 1 1 0 0 1 0 1 0 1 0 0\n",
      " 1 1 0 0 0 0 2 0 0 0 2 0 0 0 0 0 1 0 0 2 0 0 0 0 0 0 1 0 1 0 0 0 0 0 1 0 0\n",
      " 1 0 1 0 1 0 1 1 0 1 1 1 1 2 1 0 0 2 0 0 1 0 1 0 2 0 0 1 1 1 0 0 2 0 0 0 1\n",
      " 1 0 0 1 2 1 4 0 0 0 0 0 1 0 0 0 0 0 0 2 0 0 0 0 0 0 0 0 0 0 0 0 3 1 1 0 0\n",
      " 1 4 2 1 1 2 0 0 1 0 1 0 0 0 0 0 0 0 1 0 1 0 1 0 0 0 1 0 0 0 2 1 0 1 0 0 0\n",
      " 0 0 1 1 1 0 0 1 1 2 0 0 0 0 0 0 1 2 0 1 0 0 0 0 2 0 0 0 0 0 0 0 0 0 0 0 0\n",
      " 1 1 1 1 1 0 0 0 0 1 3 0 0 0 1 0 0 0 0 1 0 0 0 0 0 0 0 1 0 0 0 0 0 0 0 0 0\n",
      " 0 1 0 0 0 0 1 0 0 1 0 0 0 0 0 0 0 0 0 0 0 0 2 0 0 0 0 1 0 1 0 0 0 0 0 0 0\n",
      " 0 0 0 0 0 0 1 0 0 1 0 0 0 2 0 0 0 0 1 0 0 0 1 0 0 0 0 0 0 0 0 2 0 0 0 0 0\n",
      " 0 0 0 0 0 0 0 0 0 1 0 0 0 0 0 0 2 0 0 0 0 0 0 1 0 1 0 0 0 2 0 2 3 0 0 0 0\n",
      " 0 0 0 0 0 0 1 0 1 0 0 0 1 0 1 0 0 0 0 0 0 0 0 0 0 0 0 0 0 1 0 0 0 0 1 0 0\n",
      " 0 0 0 0 0 0 0 0 0 0 0 0 1 1 0 0 1 1 1 0 0 0 0 0 0 0 0 1 0 0 1 0 1 0 0 0 1\n",
      " 1 0 0 0 0 0 1 0 0 0 0 1 1 0 0 0 0 0 1 0 0 0 1 0 0 0 0 0 0 0 1 0 0 1 0 0 0\n",
      " 1 0 1 0 1 1 1 0 0 0 0 0 0 0 0 1 0 0 0 0 0 0 0 0 0 0 0 0 0 0 0 0 0 1 0 0 0\n",
      " 0 1 0 0 0 0 0 1 0 0 0 0 0 1 0 0 1 0 0 0 0 0 1 1 0 0 1 0 1 0 0 0 0 0 0 0 0\n",
      " 0]\n"
     ]
    }
   ],
   "source": [
    "print Hist_dE_ACD[:,0]\n",
    "print Hist_dE_TEPC[:,0]"
   ]
  },
  {
   "cell_type": "code",
   "execution_count": 20,
   "metadata": {
    "collapsed": false
   },
   "outputs": [
    {
     "name": "stdout",
     "output_type": "stream",
     "text": [
      "Plot saved to: ../Results/Scint_4mm_PV_1mm_Lid_1mm/Electrons/Hist_dE_ACD.pdf\n"
     ]
    },
    {
     "data": {
      "image/png": "[encoded data removed]",
      "text/plain": [
       "<matplotlib.figure.Figure at 0x111994190>"
      ]
     },
     "metadata": {},
     "output_type": "display_data"
    }
   ],
   "source": [
    "# Create histogram\n",
    "fig_dE_ACD, ax_dE_ACD = plt.subplots(1,1)\n",
    "                \n",
    "# Color map\n",
    "cmap = brewer2mpl.get_map('RdPu', 'sequential', 9, reverse=False).mpl_colormap\n",
    "# cmap.set_under('white')\n",
    "# cmap.set_over('black')\n",
    "\n",
    "# Plot the projections\n",
    "H = ax_dE_ACD.imshow(Hist_dE_ACD, \n",
    "                     cmap = cmap, \n",
    "                     interpolation='none', \n",
    "                     origin='lower',\n",
    "                     norm=colors.LogNorm(Hist_dE_ACD.mean() + 0.5 * Hist_dE_ACD.std(), Hist_dE_ACD.max(), clip='False')) \n",
    "# grid_dEE_Hist[0].set_xscale('log')\n",
    "# grid_dEE_Hist[0].set_yscale('log')\n",
    "\n",
    "# Information Text\n",
    "# grid_dEE_Hist[0].text(0.05, 0.95,'EventID: ' + str(EventID[0])  + '\\nAr + CO$_2$ (80/20) \\n $\\\\rho$ = 1.795 mg/cm$^3 (STP)$ \\n Voxel = (0.8 mm)$^3$ \\n E$_\\gamma$ = 10 MeV', horizontalalignment='left', verticalalignment='top', transform=gridTrack[0].transAxes)\n",
    "\n",
    "# Figure Properties\n",
    "# grid_dEE_Hist[0].set_xlabel('X (mm)')\n",
    "# grid_dEE_Hist[0].set_ylabel('Z (mm)') \n",
    "\n",
    "# xTicks = np.array([-750,-500,-250,0,250,500,750])\n",
    "# yTicks = np.array([-750,-500,-250,0,250,500,750])\n",
    "\n",
    "# grid_dE_E_Hist[0].set_xticks(xTicks) \n",
    "# grid_dE_E_Hist[0].set_yticks(yTicks)  \n",
    "\n",
    "# With cbar_mode=\"single\", cax attribute of all axes are identical.\n",
    "#cbar = plt.colorbar(H1, cax = gridTrack.cbar_axes[0])\n",
    "#cbar.solids.set_edgecolor(\"face\")\n",
    "#cbar.ax.set_ylabel('Energy Deposited (eV)')\n",
    "\n",
    "#for cax in gridTrack.cbar_axes:\n",
    "#    cax.toggle_label(True)\n",
    "\n",
    "# Tight Layout\n",
    "plt.tight_layout()\n",
    "\n",
    "# Save the figure \n",
    "file_dE_ACD = 'Hist_dE_ACD.pdf'\n",
    "plt.savefig(DataFolder + file_dE_ACD, bbox_inches=\"tight\")\n",
    "print 'Plot saved to: ' + (DataFolder+file_dE_ACD)\n",
    "\n",
    "# Show the figure\n",
    "plt.show(fig_dE_ACD)"
   ]
  },
  {
   "cell_type": "code",
   "execution_count": 29,
   "metadata": {
    "collapsed": false
   },
   "outputs": [
    {
     "name": "stdout",
     "output_type": "stream",
     "text": [
      "Plot saved to: ../Results/Scint_4mm_PV_1mm_Lid_1mm/Electrons/Hist_dE_TEPC.pdf\n"
     ]
    },
    {
     "data": {
      "image/png": "[encoded data removed]",
      "text/plain": [
       "<matplotlib.figure.Figure at 0x10a538b90>"
      ]
     },
     "metadata": {},
     "output_type": "display_data"
    }
   ],
   "source": [
    "# Create the dE_TEPC histogram\n",
    "fig_dE_TEPC, ax_dE_TEPC = plt.subplots(1,1)\n",
    "                \n",
    "# Color map\n",
    "cmap = brewer2mpl.get_map('RdPu', 'sequential', 9, reverse=False).mpl_colormap\n",
    "# cmap.set_under('white')\n",
    "# cmap.set_over('black')\n",
    "\n",
    "# Plot the projections\n",
    "H = ax_dE_TEPC.imshow(Hist_dE_TEPC, \n",
    "                     cmap = cmap, \n",
    "                     interpolation='none', \n",
    "                     origin='lower',\n",
    "                     norm=colors.LogNorm(Hist_dE_TEPC.mean() + 0.5 * Hist_dE_TEPC.std(), Hist_dE_TEPC.max(), clip='False'),\n",
    "                     extent=(0,3000,0,3000)) \n",
    "\n",
    "# Tight Layout\n",
    "plt.tight_layout()\n",
    "\n",
    "# Save the figure \n",
    "file_dE_TEPC = 'Hist_dE_TEPC.pdf'\n",
    "plt.savefig(DataFolder + file_dE_TEPC, bbox_inches=\"tight\")\n",
    "print 'Plot saved to: ' + (DataFolder+file_dE_TEPC)\n",
    "\n",
    "# Show the figure\n",
    "plt.show(fig_dE_TEPC)"
   ]
  },
  {
   "cell_type": "code",
   "execution_count": 22,
   "metadata": {
    "collapsed": false
   },
   "outputs": [
    {
     "data": {
      "text/plain": [
       "[<matplotlib.lines.Line2D at 0x110e55410>]"
      ]
     },
     "execution_count": 22,
     "metadata": {},
     "output_type": "execute_result"
    },
    {
     "data": {
      "image/png": "[encoded data removed]",
      "text/plain": [
       "<matplotlib.figure.Figure at 0x110f423d0>"
      ]
     },
     "metadata": {},
     "output_type": "display_data"
    }
   ],
   "source": [
    "plt.plot(Hist_dE_ACD[:,30])"
   ]
  },
  {
   "cell_type": "code",
   "execution_count": null,
   "metadata": {
    "collapsed": true
   },
   "outputs": [],
   "source": []
  }
 ],
 "metadata": {
  "kernelspec": {
   "display_name": "Python 2",
   "language": "python",
   "name": "python2"
  },
  "language_info": {
   "codemirror_mode": {
    "name": "ipython",
    "version": 2
   },
   "file_extension": ".py",
   "mimetype": "text/x-python",
   "name": "python",
   "nbconvert_exporter": "python",
   "pygments_lexer": "ipython2",
   "version": "2.7.11"
  }
 },
 "nbformat": 4,
 "nbformat_minor": 0
}
